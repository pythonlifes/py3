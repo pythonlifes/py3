{
 "cells": [
  {
   "cell_type": "markdown",
   "metadata": {},
   "source": [
    "# 一:对象\n",
    "\n",
    "    在java,c等很多语言中,定义一个变量,必须要指定类型,在python中有点不同,那python怎么知道一个变量(符号)是什么类型呢\n",
    "        在python中,类型是在运行期中自动决定的,也就是所谓的动态类型模型\n",
    "        变量只是一个别名,在运行期会替换成为对应的内存地址所指向的具体的值,因为变量永远不会有任何和它关联的类型信息和约束,\n",
    "        类型的概念是存在于对象中\n",
    "    \n",
    "    对象是python中对数据的抽象,表示数据之间的关系,每个对象都有各自的属性(类型和具体值等)\n",
    "    特点:\n",
    "        一旦创建，编号不会变(id),即所谓的内存地址  双胞胎问题\n",
    "        内存:\n",
    "            sys.getsizeof(123)  python中int是变长的\n",
    "                struct _longobject {\n",
    "                PyObject_VAR_HEAD\n",
    "                digit ob_digit[1];\n",
    "            };\n",
    "            python中整型结构中的数组，每个元素最大存储 15 位的二进制数（不同位数操作系统有差异32位系统存15位，64位系统是30位）。\n",
    "\n",
    "            因此，sys.getsizeof(0) 数组元素为0。此时占用24字节（PyObject_VAR_HEAD 的大小）。\n",
    "            \n",
    "            \n",
    "        销毁问题:\n",
    "            一旦创建,引用计数不为0 sys.getrefcount(a)  引用计数为0或者只存在对象的弱引用时将回收这个对象\n",
    "        对于常用字符构成的字符串（0123456789ABCDEFGHIJKLMNOPQRSTUVWXYZ_abcdefghijklmnopqrstuvwxyz）\n",
    "        Python会采用驻留机制，字符串在内存中只有一份\n",
    "        CPython 中，id(x) 就是存放 x 的内存的地址\n",
    "    类型(type):决定了该对象所支持的操作,eg: 比如人又姓名年龄  序列有长度属性等,python中一个对象的类型是不可变的\n",
    "    eg:\n",
    "        f = '123456789'\n",
    "        print(id(f))\n",
    "        print(type(f))\n",
    "        f = int(f) 已经是一个新的对象\n",
    "        print(type(f))\n",
    "        print(id(f))\n",
    "        isinstance(1,int)\n",
    "     \n",
    "     可变性:\n",
    "         有些对象的值是可以改变的,值可变的对象被称为可变对象,相反,值不可变的对象就成为不可变对象\n",
    "         是否可变由其类型决定:数字、字符串和元组是不可变的，而字典和列表是可变的\n",
    "            延伸:值传递和引用传递\n",
    "                值传递:被调函数的形式参数作为被调函数的局部变量处理，即在堆栈中开辟了内存空间来存放由主调函数放进来的实参的值,不会影响主调函数的实际参数的值,一个副本而已\n",
    "                引用传递:被调函数的形式参数虽然也作为局部变量在堆栈中开辟了内存空间,存放的是由主调函数实参变量的地址\n",
    "                l = [ 1,2,3]\n",
    "                def demo(l:list):\n",
    "                    print(id(l),l)\n",
    "                    l.pop()\n",
    "                    print(id(l),l)\n",
    "                demo(l)\n",
    "                print(id(l),l)\n",
    "            \n",
    "            import collections.abc\n",
    "            print(issubclass(str,collections.abc.Sequence))\n",
    "            print(issubclass(str,collections.abc.MutableSequence))\n",
    "            \n",
    "       变量:\n",
    "           在运行期可以被修改状态的实体,内存中分配空间,又称符号,在编码时有用,编译器编码完成后,会翻译成一个虚拟地址\n",
    "           最直接的关联操作就是赋值\n",
    "               z = 100\n",
    "               z += 2\n",
    "           \n",
    "     "
   ]
  },
  {
   "attachments": {
    "image.png": {
     "image/png": "[encoded data removed]"
    }
   },
   "cell_type": "markdown",
   "metadata": {},
   "source": [
    "![image.png](attachment:image.png)"
   ]
  },
  {
   "cell_type": "code",
   "execution_count": 46,
   "metadata": {},
   "outputs": [
    {
     "name": "stdout",
     "output_type": "stream",
     "text": [
      "3\n",
      "139948554395216 139948554394800\n",
      "False\n",
      "True\n",
      "<class 'int'>\n",
      "False\n",
      "139948916175216 139948916175216\n",
      "True\n"
     ]
    }
   ],
   "source": [
    "#双胞胎 ?\n",
    "#import dis\n",
    "import sys\n",
    "a = 123456\n",
    "b = 123456\n",
    "print(sys.getrefcount(a))\n",
    "print(id(a),id(b))\n",
    "print(a is b)\n",
    "print(a==b)\n",
    "print(type(a))\n",
    "print(id(a)==id(b))\n",
    "c = '1234567'\n",
    "d = '1234567'\n",
    "#dis.dis(c)\n",
    "#dis.dis(d)\n",
    "print(id(c),id(d))\n",
    "print(c is d)\n"
   ]
  },
  {
   "cell_type": "code",
   "execution_count": 32,
   "metadata": {},
   "outputs": [
    {
     "name": "stdout",
     "output_type": "stream",
     "text": [
      "139948550361456 139948550361456\n"
     ]
    },
    {
     "data": {
      "text/plain": [
       "True"
      ]
     },
     "execution_count": 32,
     "metadata": {},
     "output_type": "execute_result"
    }
   ],
   "source": [
    "a = '1234567'\n",
    "a = b\n",
    "print(id(a),id(b))\n",
    "a is b"
   ]
  },
  {
   "cell_type": "code",
   "execution_count": 41,
   "metadata": {},
   "outputs": [
    {
     "name": "stdout",
     "output_type": "stream",
     "text": [
      "True\n",
      "False\n"
     ]
    }
   ],
   "source": [
    "import collections.abc\n",
    "print(issubclass(str,collections.abc.Sequence))\n",
    "print(issubclass(str,collections.abc.MutableSequence))"
   ]
  },
  {
   "cell_type": "code",
   "execution_count": 1,
   "metadata": {},
   "outputs": [
    {
     "name": "stdout",
     "output_type": "stream",
     "text": [
      "140139483274944 [1, 2, 3]\n",
      "140139483274944 [1, 2]\n",
      "140139483274944 [1, 2]\n"
     ]
    }
   ],
   "source": [
    "l = [ 1,2,3]\n",
    "def demo(l:list):\n",
    "    print(id(l),l)\n",
    "    l.pop()\n",
    "    print(id(l),l)\n",
    "demo(l)\n",
    "print(id(l),l)\n"
   ]
  },
  {
   "cell_type": "markdown",
   "metadata": {},
   "source": [
    "# 内存\n",
    "    对于常用的小数字,解释器会在初始化的时候进行缓存,提高性能,节约内存开销\n",
    "    以最新版python为例 缓存范围是[-5,256]\n",
    "   "
   ]
  },
  {
   "cell_type": "code",
   "execution_count": null,
   "metadata": {},
   "outputs": [],
   "source": [
    "a = -5\n",
    "b = -5\n",
    "a is b"
   ]
  },
  {
   "cell_type": "code",
   "execution_count": null,
   "metadata": {},
   "outputs": [],
   "source": [
    "#延伸\n",
    "\n",
    "@profile\n",
    "def test(s):\n",
    "    a = s[:]\n",
    "    b = s[10:-10]\n",
    "    c = s.split(',')\n",
    "    return a,b,c\n",
    "\n",
    "s = '0,' * (1<<20)\n",
    "test(s)\n",
    "\n",
    "python3.8 -m memory_profiler testpro.py\n",
    "Line #    Mem usage    Increment   Line Contents\n",
    "================================================\n",
    "     1   38.969 MiB   38.969 MiB   @profile\n",
    "     2                             def test(s):\n",
    "     3   38.969 MiB    0.000 MiB       a = s[:]\n",
    "     4   40.906 MiB    1.938 MiB       b = s[10:-10]\n",
    "     5   49.840 MiB    8.934 MiB       c = s.split(',')\n",
    "     6   49.840 MiB    0.000 MiB       return a,b,c\n",
    "Mem usage : 运行内存大小；\n",
    "Increment : 运行当前代码后，增加的内存。\n",
    "    \n",
    "    \n",
    "#字符串拼接性能\n",
    "import string\n",
    "\n",
    "x = list(string.ascii_uppercase)\n",
    "print(x)\n",
    "\n",
    "@profile\n",
    "def test_add():\n",
    "    s = ''\n",
    "    for c in x:\n",
    "        s += c\n",
    "    return s\n",
    "\n",
    "\n",
    "\n",
    "@profile\n",
    "def test_join():\n",
    "    return ''.join(x)\n",
    "\n",
    "test_add()\n",
    "test_join()\n",
    "\n",
    "'''\n",
    "    pip install line_profiler\n",
    "'''\n",
    "kernprof -l -v test_str.py  #-l表示逐行分析，-v用于输出\n",
    "Wrote profile results to test_str.py.lprof\n",
    "Timer unit: 1e-06 s\n",
    "\n",
    "Total time: 1.3e-05 s\n",
    "File: test_str.py\n",
    "Function: test_add at line 6\n",
    "\n",
    "Line #      Hits         Time  Per Hit   % Time  Line Contents\n",
    "==============================================================\n",
    "     6                                           @profile\n",
    "     7                                           def test_add():\n",
    "     8         1          1.0      1.0      7.7      s = ''\n",
    "     9        27          7.0      0.3     53.8      for c in x:\n",
    "    10        26          5.0      0.2     38.5          s += c\n",
    "    11         1          0.0      0.0      0.0      return s\n",
    "\n",
    "Total time: 1e-06 s\n",
    "File: test_str.py\n",
    "Function: test_join at line 15\n",
    "\n",
    "Line #      Hits         Time  Per Hit   % Time  Line Contents\n",
    "==============================================================\n",
    "    15                                           @profile\n",
    "    16                                           def test_join():\n",
    "    17         1          1.0      1.0    100.0      return ''.join(x)\n",
    "\n",
    "Timer unit: 1e-06 s：时间单位；\n",
    "Total time: 0.004891 s：总时间；\n",
    "Hit：代码运行次数；\n",
    "%Time：代码占了它所在函数的消耗的时间百分比，通常直接看这一列\n",
    "\n",
    "\n",
    "https://www.cnblogs.com/rgcLOVEyaya/p/RGC_LOVE_YAYA_603days_1.html\n",
    "guppy"
   ]
  },
  {
   "cell_type": "markdown",
   "metadata": {},
   "source": [
    "# 标准类型\n",
    "    numbers.Number(区分整型数、浮点型数和复数):\n",
    "    序列:\n",
    "        不可变: str,tuple,字节串(字节串对象是不可变的数组,字节串字面值 (例如 b'abc') 和内置的 bytes() 构造器可被用来创建字节串对象。字节串对象还可以通过 decode() 方法解码为字符串)\n",
    "        可变:\n",
    "            列表,字节数组(可以通过内置的 bytearray() 构造器来创建),\n",
    "    集合类型:\n",
    "            集合:无序不可重复,不能通过下标访问数据元素\n",
    "            冻结集合:通过内置的 frozenset() 构造器创建\n",
    "    映射"
   ]
  },
  {
   "cell_type": "code",
   "execution_count": 47,
   "metadata": {},
   "outputs": [
    {
     "data": {
      "text/plain": [
       "True"
      ]
     },
     "execution_count": 47,
     "metadata": {},
     "output_type": "execute_result"
    }
   ],
   "source": [
    "a = set()\n",
    "a.add(1)\n",
    "a.add(1.0)\n",
    "a\n",
    "1==1.0"
   ]
  },
  {
   "cell_type": "markdown",
   "metadata": {},
   "source": [
    "# 导包\n",
    "    1:导包操作\n",
    "        import xx\n",
    "        from xx import xx as x\n",
    "        先搜索指定名称的模块，然后将搜索结果绑定到当前作用域中的名称。如果找不到则会引发 ModuleNotFoundError。\n",
    "    2:包\n",
    "        类比文件系统中的目录,模块可以看做是目录中的文件,通常一个包下面会有一个__init__.py文件\n",
    "        如果一个模块具有 __path__ 属性，它就是包。\n",
    "        from mypackage import *\n",
    "        dir()\n",
    "        ['__builtins__', '__doc__', '__file__', '__loader__', '__name__', '__package__', '__spec__', 'a', 'b', 'c', 'mypackage', 'sys']\n",
    "        dir(a)\n",
    "        ['__doc__', '__file__', '__loader__', '__name__', '__package__', '__path__', '__spec__']\n"
   ]
  },
  {
   "cell_type": "code",
   "execution_count": 2,
   "metadata": {},
   "outputs": [
    {
     "name": "stdout",
     "output_type": "stream",
     "text": [
      "{'a': 1, 'y': 3}\n"
     ]
    },
    {
     "data": {
      "text/plain": [
       "3"
      ]
     },
     "execution_count": 2,
     "metadata": {},
     "output_type": "execute_result"
    }
   ],
   "source": [
    "def add(a):\n",
    "    y = a +2\n",
    "    print(locals()) #全部局部变量。\n",
    "    return y\n",
    "add(1)"
   ]
  },
  {
   "cell_type": "code",
   "execution_count": 25,
   "metadata": {},
   "outputs": [
    {
     "name": "stdout",
     "output_type": "stream",
     "text": [
      "31\n"
     ]
    },
    {
     "data": {
      "text/plain": [
       "32"
      ]
     },
     "execution_count": 25,
     "metadata": {},
     "output_type": "execute_result"
    }
   ],
   "source": [
    "import  sys\n",
    "a = 1234567890\n",
    "print(a.bit_length()) #获取二进制长度\n",
    "sys.getsizeof(a)"
   ]
  },
  {
   "cell_type": "code",
   "execution_count": 28,
   "metadata": {},
   "outputs": [
    {
     "data": {
      "text/plain": [
       "4.133333333333334"
      ]
     },
     "execution_count": 28,
     "metadata": {},
     "output_type": "execute_result"
    }
   ],
   "source": [
    "a.bit_length()/30*4"
   ]
  },
  {
   "cell_type": "markdown",
   "metadata": {},
   "source": [
    "# 对象复制\n",
    "    在程序世界中,参数传递有2种方式:值传递和引用传递,值传递的好处其一是在并发状态下，不会引起竞争问题,引用传递节约性能\n",
    "    复制对象分为浅拷贝和深度拷贝:\n",
    "        浅拷贝只是复制对象自身,不包括它的引用的其他对象,后者则递归复制所有引用目标\n",
    "    赋值操作总是存储的是对象的引用,并不是对象的拷贝"
   ]
  }
 ],
 "metadata": {
  "kernelspec": {
   "display_name": "Python 3",
   "language": "python",
   "name": "python3"
  },
  "language_info": {
   "codemirror_mode": {
    "name": "ipython",
    "version": 3
   },
   "file_extension": ".py",
   "mimetype": "text/x-python",
   "name": "python",
   "nbconvert_exporter": "python",
   "pygments_lexer": "ipython3",
   "version": "3.8.2"
  }
 },
 "nbformat": 4,
 "nbformat_minor": 4
}
