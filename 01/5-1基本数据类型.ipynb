{
 "cells": [
  {
   "cell_type": "markdown",
   "metadata": {},
   "source": [
    "# 一:六个标准的数据类型\n",
    "\n",
    "    Number（数字）\n",
    "    String（字符串）\n",
    "    List（列表）\n",
    "    Tuple（元组）\n",
    "    Set（集合）\n",
    "    Dictionary（字典）"
   ]
  },
  {
   "cell_type": "markdown",
   "metadata": {},
   "source": [
    "# Number\n",
    "     int、float、bool、complex（复数）\n",
    "     python3中将原有2.x中的int和long两种数据类型合并为长整形int,才用变长结构\n",
    "     \n",
    "     在int中需要注意的点:\n",
    "         对于较长的数字,为了方便阅读展示,习惯才用千分位标记\n",
    "         78,654,321\n",
    "         78_654_321\n",
    "     数字还可以二进制（bin）、八进制（oct），以及十六进制（hex）表示。下划线分隔符号同样适用于这些进制的字面量\n",
    "    \n",
    "     转换:\n",
    "         用内置函数将整数转换为指定的进制字符串或者用int还原\n",
    "     类型自动升级:自动转换为其中最复杂的操作对象类型,然后在进行运算\n",
    "         40 + 3.14\n",
    "     \n",
    "     # 比较 支持连续比较  1< 2<3 但是建议写成 1<2 and 2< 3\n",
    "     \n",
    "     除法: x/y x//y\n",
    "     \n",
    "     \n",
    "     位运算(原码，反码，补码的产生过程，)\n",
    "         x = 1 \n",
    "         x << 2  左移2位\n",
    "         0001   \n",
    "         0100  1X2^2 + 0X 2^1 + 0X 2^0   \n",
    "\n",
    "         x | 2   or  3\n",
    "         0001\n",
    "         0100\n",
    "         0101 \n",
    "     布尔类型:\n",
    "         True  False (1和0) \n",
    "         在进行bool转换是,0,None,空序列,空字典都是False\n",
    "         \n",
    "         #自定义bool转换结果\n",
    "         class B:\n",
    "             def __init__(self,x):\n",
    "                 self.x =x\n",
    "             def __bool__():\n",
    "                 return self.x > 2\n",
    "     枚举(enum):\n",
    "         用于声明一组命名常量,当一个逻辑有几种固定的取值时,可以将它定义为枚举类型,在python语言规范中没有枚举的定义，采用标准库实现,\n",
    "         成员的值可以相同,但是名字不能重复,当个成员值相同时,总返回第一个名字\n",
    "         #自定义枚举\n",
    "     \n",
    "     浮点数\n",
    "         默认的float类型是存储双精度(double)浮点数\n",
    "         浮点数存储的是近似值(以二进制存储10进制的近似值)\n",
    "         \n",
    "         转换\n",
    "             float(100)\n",
    "             float('1000.123')\n",
    "             float('\\t 100.234')\n",
    "             float('1.234E2') #科学计数法\n",
    "     十进制浮点数(decimal.Decimal):\n",
    "         精确度可达28位,不存在二进制近似值问题\n",
    "             1.1 + 2.2\n",
    "     \n",
    "     \n",
    "     #延伸  浮点数造成的精度问题影响四舍五入的问题\n",
    "         "
   ]
  },
  {
   "cell_type": "code",
   "execution_count": 3,
   "metadata": {},
   "outputs": [
    {
     "data": {
      "text/plain": [
       "int"
      ]
     },
     "execution_count": 3,
     "metadata": {},
     "output_type": "execute_result"
    }
   ],
   "source": [
    "x = 1 << 10000\n",
    "type(x)"
   ]
  },
  {
   "cell_type": "code",
   "execution_count": 23,
   "metadata": {},
   "outputs": [
    {
     "data": {
      "text/plain": [
       "1360"
      ]
     },
     "execution_count": 23,
     "metadata": {},
     "output_type": "execute_result"
    }
   ],
   "source": [
    "import sys,math\n",
    "sys.getsizeof(x)"
   ]
  },
  {
   "cell_type": "code",
   "execution_count": 26,
   "metadata": {},
   "outputs": [
    {
     "data": {
      "text/plain": [
       "1360"
      ]
     },
     "execution_count": 26,
     "metadata": {},
     "output_type": "execute_result"
    }
   ],
   "source": [
    "math.ceil(x.bit_length()/30) * 4 + 24"
   ]
  },
  {
   "cell_type": "code",
   "execution_count": 29,
   "metadata": {},
   "outputs": [
    {
     "data": {
      "text/plain": [
       "tuple"
      ]
     },
     "execution_count": 29,
     "metadata": {},
     "output_type": "execute_result"
    }
   ],
   "source": [
    "a = 78,654,321\n",
    "type(a)"
   ]
  },
  {
   "cell_type": "code",
   "execution_count": 44,
   "metadata": {},
   "outputs": [
    {
     "data": {
      "text/plain": [
       "int"
      ]
     },
     "execution_count": 44,
     "metadata": {},
     "output_type": "execute_result"
    }
   ],
   "source": [
    "a = 78_654_321\n",
    "type(a)"
   ]
  },
  {
   "cell_type": "code",
   "execution_count": 46,
   "metadata": {},
   "outputs": [
    {
     "data": {
      "text/plain": [
       "'19,950,631,168,807,583,848,837,421,626,835,850,838,234,968,318,861,924,548,520,089,498,529,438,830,221,946,631,919,961,684,036,194,597,899,331,129,423,209,124,271,556,491,349,413,781,117,593,785,932,096,323,957,855,730,046,793,794,526,765,246,551,266,059,895,520,550,086,918,193,311,542,508,608,460,618,104,685,509,074,866,089,624,888,090,489,894,838,009,253,941,633,257,850,621,568,309,473,902,556,912,388,065,225,096,643,874,441,046,759,871,626,985,453,222,868,538,161,694,315,775,629,640,762,836,880,760,732,228,535,091,641,476,183,956,381,458,969,463,899,410,840,960,536,267,821,064,621,427,333,394,036,525,565,649,530,603,142,680,234,969,400,335,934,316,651,459,297,773,279,665,775,606,172,582,031,407,994,198,179,607,378,245,683,762,280,037,302,885,487,251,900,834,464,581,454,650,557,929,601,414,833,921,615,734,588,139,257,095,379,769,119,277,800,826,957,735,674,444,123,062,018,757,836,325,502,728,323,789,270,710,373,802,866,393,031,428,133,241,401,624,195,671,690,574,061,419,654,342,324,638,801,248,856,147,305,207,431,992,259,611,796,250,130,992,860,241,708,340,807,605,932,320,161,268,492,288,496,255,841,312,844,061,536,738,951,487,114,256,315,111,089,745,514,203,313,820,202,931,640,957,596,464,756,010,405,845,841,566,072,044,962,867,016,515,061,920,631,004,186,422,275,908,670,900,574,606,417,856,951,911,456,055,068,251,250,406,007,519,842,261,898,059,237,118,054,444,788,072,906,395,242,548,339,221,982,707,404,473,162,376,760,846,613,033,778,706,039,803,413,197,133,493,654,622,700,563,169,937,455,508,241,780,972,810,983,291,314,403,571,877,524,768,509,857,276,937,926,433,221,599,399,876,886,660,808,368,837,838,027,643,282,775,172,273,657,572,744,784,112,294,389,733,810,861,607,423,253,291,974,813,120,197,604,178,281,965,697,475,898,164,531,258,434,135,959,862,784,130,128,185,406,283,476,649,088,690,521,047,580,882,615,823,961,985,770,122,407,044,330,583,075,869,039,319,604,603,404,973,156,583,208,672,105,913,300,903,752,823,415,539,745,394,397,715,257,455,290,510,212,310,947,321,610,753,474,825,740,775,273,986,348,298,498,340,756,937,955,646,638,621,874,569,499,279,016,572,103,701,364,433,135,817,214,311,791,398,222,983,845,847,334,440,270,964,182,851,005,072,927,748,364,550,578,634,501,100,852,987,812,389,473,928,699,540,834,346,158,807,043,959,118,985,815,145,779,177,143,619,698,728,131,459,483,783,202,081,474,982,171,858,011,389,071,228,250,905,826,817,436,220,577,475,921,417,653,715,687,725,614,904,582,904,992,461,028,630,081,535,583,308,130,101,987,675,856,234,343,538,955,409,175,623,400,844,887,526,162,643,568,648,833,519,463,720,377,293,240,094,456,246,923,254,350,400,678,027,273,837,755,376,406,726,898,636,241,037,491,410,966,718,557,050,759,098,100,246,789,880,178,271,925,953,381,282,421,954,028,302,759,408,448,955,014,676,668,389,697,996,886,241,636,313,376,393,903,373,455,801,407,636,741,877,711,055,384,225,739,499,110,186,468,219,696,581,651,485,130,494,222,369,947,714,763,069,155,468,217,682,876,200,362,777,257,723,781,365,331,611,196,811,280,792,669,481,887,201,298,643,660,768,551,639,860,534,602,297,871,557,517,947,385,246,369,446,923,087,894,265,948,217,008,051,120,322,365,496,288,169,035,739,121,368,338,393,591,756,418,733,850,510,970,271,613,915,439,590,991,598,154,654,417,336,311,656,936,031,122,249,937,969,999,226,781,732,358,023,111,862,644,575,299,135,758,175,008,199,839,236,284,615,249,881,088,960,232,244,362,173,771,618,086,357,015,468,484,058,622,329,792,853,875,623,486,556,440,536,962,622,018,963,571,028,812,361,567,512,543,338,303,270,029,097,668,650,568,557,157,505,516,727,518,899,194,129,711,337,690,149,916,181,315,171,544,007,728,650,573,189,557,450,920,330,185,304,847,113,818,315,407,324,053,319,038,462,084,036,421,763,703,911,550,639,789,000,742,853,672,196,280,903,477,974,533,320,468,368,795,868,580,237,952,218,629,120,080,742,819,551,317,948,157,624,448,298,518,461,509,704,888,027,274,721,574,688,131,594,750,409,732,115,080,498,190,455,803,416,826,949,787,141,316,063,210,686,391,511,681,774,304,792,596,709,376'"
      ]
     },
     "execution_count": 46,
     "metadata": {},
     "output_type": "execute_result"
    }
   ],
   "source": [
    "#显示千分位符\n",
    "'{:,}'.format(x)"
   ]
  },
  {
   "cell_type": "code",
   "execution_count": null,
   "metadata": {},
   "outputs": [],
   "source": []
  },
  {
   "cell_type": "code",
   "execution_count": 7,
   "metadata": {},
   "outputs": [
    {
     "data": {
      "text/plain": [
       "100"
      ]
     },
     "execution_count": 7,
     "metadata": {},
     "output_type": "execute_result"
    }
   ],
   "source": [
    "# 是0不是o #bin\n",
    "0b1100100"
   ]
  },
  {
   "cell_type": "code",
   "execution_count": 8,
   "metadata": {},
   "outputs": [
    {
     "data": {
      "text/plain": [
       "100"
      ]
     },
     "execution_count": 8,
     "metadata": {},
     "output_type": "execute_result"
    }
   ],
   "source": [
    "# oct\n",
    "oct(100)\n",
    "0o144"
   ]
  },
  {
   "cell_type": "code",
   "execution_count": 40,
   "metadata": {},
   "outputs": [
    {
     "data": {
      "text/plain": [
       "100"
      ]
     },
     "execution_count": 40,
     "metadata": {},
     "output_type": "execute_result"
    }
   ],
   "source": [
    "# hex\n",
    "0x64"
   ]
  },
  {
   "cell_type": "code",
   "execution_count": 5,
   "metadata": {},
   "outputs": [
    {
     "name": "stdout",
     "output_type": "stream",
     "text": [
      "0b1100100\n"
     ]
    },
    {
     "data": {
      "text/plain": [
       "100"
      ]
     },
     "execution_count": 5,
     "metadata": {},
     "output_type": "execute_result"
    }
   ],
   "source": [
    "# 转换\n",
    "a = bin(100)\n",
    "print(a)\n",
    "type(a)\n",
    "\n",
    " \n",
    "int('0b1100100',2)"
   ]
  },
  {
   "cell_type": "code",
   "execution_count": 3,
   "metadata": {},
   "outputs": [
    {
     "data": {
      "text/plain": [
       "43.15"
      ]
     },
     "execution_count": 3,
     "metadata": {},
     "output_type": "execute_result"
    }
   ],
   "source": [
    "40 + 3.15"
   ]
  },
  {
   "cell_type": "code",
   "execution_count": 5,
   "metadata": {},
   "outputs": [],
   "source": [
    "a = 10\n",
    "b = 3"
   ]
  },
  {
   "cell_type": "code",
   "execution_count": 22,
   "metadata": {},
   "outputs": [
    {
     "data": {
      "text/plain": [
       "3.3333333333333335"
      ]
     },
     "execution_count": 22,
     "metadata": {},
     "output_type": "execute_result"
    }
   ],
   "source": [
    "a/b"
   ]
  },
  {
   "cell_type": "code",
   "execution_count": 24,
   "metadata": {},
   "outputs": [
    {
     "data": {
      "text/plain": [
       "3"
      ]
     },
     "execution_count": 24,
     "metadata": {},
     "output_type": "execute_result"
    }
   ],
   "source": [
    "int(a/b)"
   ]
  },
  {
   "cell_type": "code",
   "execution_count": 25,
   "metadata": {},
   "outputs": [
    {
     "data": {
      "text/plain": [
       "4"
      ]
     },
     "execution_count": 25,
     "metadata": {},
     "output_type": "execute_result"
    }
   ],
   "source": [
    "import math\n",
    "math.ceil(a/b)"
   ]
  },
  {
   "cell_type": "code",
   "execution_count": 9,
   "metadata": {},
   "outputs": [
    {
     "data": {
      "text/plain": [
       "3"
      ]
     },
     "execution_count": 9,
     "metadata": {},
     "output_type": "execute_result"
    }
   ],
   "source": [
    "a//b"
   ]
  },
  {
   "cell_type": "code",
   "execution_count": 10,
   "metadata": {},
   "outputs": [],
   "source": [
    "c = -10\n",
    "d =  3"
   ]
  },
  {
   "cell_type": "code",
   "execution_count": 12,
   "metadata": {},
   "outputs": [
    {
     "data": {
      "text/plain": [
       "-3.3333333333333335"
      ]
     },
     "execution_count": 12,
     "metadata": {},
     "output_type": "execute_result"
    }
   ],
   "source": [
    "c/d"
   ]
  },
  {
   "cell_type": "code",
   "execution_count": 14,
   "metadata": {},
   "outputs": [
    {
     "data": {
      "text/plain": [
       "-4"
      ]
     },
     "execution_count": 14,
     "metadata": {},
     "output_type": "execute_result"
    }
   ],
   "source": [
    "c//d"
   ]
  },
  {
   "cell_type": "code",
   "execution_count": 20,
   "metadata": {},
   "outputs": [
    {
     "data": {
      "text/plain": [
       "-3"
      ]
     },
     "execution_count": 20,
     "metadata": {},
     "output_type": "execute_result"
    }
   ],
   "source": [
    "int(c/d)"
   ]
  },
  {
   "cell_type": "code",
   "execution_count": 26,
   "metadata": {},
   "outputs": [
    {
     "data": {
      "text/plain": [
       "-3"
      ]
     },
     "execution_count": 26,
     "metadata": {},
     "output_type": "execute_result"
    }
   ],
   "source": [
    "math.ceil(c/d)"
   ]
  },
  {
   "cell_type": "code",
   "execution_count": 36,
   "metadata": {},
   "outputs": [
    {
     "data": {
      "text/plain": [
       "2"
      ]
     },
     "execution_count": 36,
     "metadata": {},
     "output_type": "execute_result"
    }
   ],
   "source": [
    "True +1"
   ]
  },
  {
   "cell_type": "code",
   "execution_count": 39,
   "metadata": {},
   "outputs": [
    {
     "data": {
      "text/plain": [
       "True"
      ]
     },
     "execution_count": 39,
     "metadata": {},
     "output_type": "execute_result"
    }
   ],
   "source": [
    "1 ==True"
   ]
  },
  {
   "cell_type": "code",
   "execution_count": 41,
   "metadata": {},
   "outputs": [
    {
     "data": {
      "text/plain": [
       "False"
      ]
     },
     "execution_count": 41,
     "metadata": {},
     "output_type": "execute_result"
    }
   ],
   "source": [
    "2 == True"
   ]
  },
  {
   "cell_type": "code",
   "execution_count": 42,
   "metadata": {},
   "outputs": [
    {
     "data": {
      "text/plain": [
       "-1"
      ]
     },
     "execution_count": 42,
     "metadata": {},
     "output_type": "execute_result"
    }
   ],
   "source": [
    "False -1"
   ]
  },
  {
   "cell_type": "code",
   "execution_count": 46,
   "metadata": {},
   "outputs": [],
   "source": [
    "if -0:\n",
    "    print(1)"
   ]
  },
  {
   "cell_type": "code",
   "execution_count": 48,
   "metadata": {},
   "outputs": [
    {
     "name": "stdout",
     "output_type": "stream",
     "text": [
      "1\n"
     ]
    }
   ],
   "source": [
    "if -1:\n",
    "    print(1)"
   ]
  },
  {
   "cell_type": "code",
   "execution_count": 50,
   "metadata": {},
   "outputs": [
    {
     "name": "stdout",
     "output_type": "stream",
     "text": [
      "2\n"
     ]
    }
   ],
   "source": [
    "if -2:\n",
    "    print(2)"
   ]
  },
  {
   "cell_type": "markdown",
   "metadata": {},
   "source": [
    "# op:\n",
    "    2 *(3 +4)\n",
    "    2 * 4 +4\n",
    "    2 + 3 *4\n",
    "    \n",
    "    1 + 2.0 + 3\n",
    "    \n",
    "    3.1415求整 \n",
    "    3转换为浮点数\n",
    "    \n",
    "    \n",
    "    \n",
    "    \n",
    "    \n"
   ]
  },
  {
   "cell_type": "code",
   "execution_count": 1,
   "metadata": {},
   "outputs": [
    {
     "name": "stdout",
     "output_type": "stream",
     "text": [
      "3\n"
     ]
    },
    {
     "ename": "NameError",
     "evalue": "name 'math' is not defined",
     "output_type": "error",
     "traceback": [
      "\u001b[0;31m---------------------------------------------------------------------------\u001b[0m",
      "\u001b[0;31mNameError\u001b[0m                                 Traceback (most recent call last)",
      "\u001b[0;32m<ipython-input-1-dc03efa13748>\u001b[0m in \u001b[0;36m<module>\u001b[0;34m\u001b[0m\n\u001b[1;32m      1\u001b[0m \u001b[0ma\u001b[0m \u001b[0;34m=\u001b[0m \u001b[0;36m3.15\u001b[0m\u001b[0;34m\u001b[0m\u001b[0;34m\u001b[0m\u001b[0m\n\u001b[1;32m      2\u001b[0m \u001b[0mprint\u001b[0m\u001b[0;34m(\u001b[0m\u001b[0mint\u001b[0m\u001b[0;34m(\u001b[0m\u001b[0ma\u001b[0m\u001b[0;34m)\u001b[0m\u001b[0;34m)\u001b[0m\u001b[0;34m\u001b[0m\u001b[0;34m\u001b[0m\u001b[0m\n\u001b[0;32m----> 3\u001b[0;31m \u001b[0mprint\u001b[0m\u001b[0;34m(\u001b[0m\u001b[0mmath\u001b[0m\u001b[0;34m.\u001b[0m\u001b[0mtrunc\u001b[0m\u001b[0;34m(\u001b[0m\u001b[0ma\u001b[0m\u001b[0;34m)\u001b[0m\u001b[0;34m)\u001b[0m\u001b[0;34m\u001b[0m\u001b[0;34m\u001b[0m\u001b[0m\n\u001b[0m\u001b[1;32m      4\u001b[0m \u001b[0mprint\u001b[0m\u001b[0;34m(\u001b[0m\u001b[0mround\u001b[0m\u001b[0;34m(\u001b[0m\u001b[0ma\u001b[0m\u001b[0;34m)\u001b[0m\u001b[0;34m)\u001b[0m  \u001b[0;31m# round(n,digit)\u001b[0m\u001b[0;34m\u001b[0m\u001b[0;34m\u001b[0m\u001b[0m\n\u001b[1;32m      5\u001b[0m \u001b[0mprint\u001b[0m\u001b[0;34m(\u001b[0m\u001b[0mmath\u001b[0m\u001b[0;34m.\u001b[0m\u001b[0mfloor\u001b[0m\u001b[0;34m(\u001b[0m\u001b[0ma\u001b[0m\u001b[0;34m)\u001b[0m\u001b[0;34m)\u001b[0m\u001b[0;34m\u001b[0m\u001b[0;34m\u001b[0m\u001b[0m\n",
      "\u001b[0;31mNameError\u001b[0m: name 'math' is not defined"
     ]
    }
   ],
   "source": [
    "a = 3.15\n",
    "print(int(a))\n",
    "print(math.trunc(a))\n",
    "print(round(a))  # round(n,digit)\n",
    "print(math.floor(a))\n",
    "print(math.ceil(a))"
   ]
  },
  {
   "cell_type": "code",
   "execution_count": 10,
   "metadata": {},
   "outputs": [
    {
     "data": {
      "text/plain": [
       "'little'"
      ]
     },
     "execution_count": 10,
     "metadata": {},
     "output_type": "execute_result"
    }
   ],
   "source": [
    "# 将整数转换为字节数组,常见于二进制网络协议/文件读写(大小端)\n",
    "'''\n",
    "    无论是什么数据,在系统底层都是以字节方式存储,\n",
    "    0x1234 分为2个字节,高位 0x12  低位0x34\n",
    "    按照内存从低到高 小端排列 0x34 0x12 大端 0x12  0x34\n",
    "    不同的硬件架构采用不同的存储顺序\n",
    "    获取系统字节序\n",
    "'''\n",
    "import sys\n",
    "sys.byteorder"
   ]
  },
  {
   "cell_type": "code",
   "execution_count": 14,
   "metadata": {},
   "outputs": [
    {
     "name": "stdout",
     "output_type": "stream",
     "text": [
      "2\n"
     ]
    }
   ],
   "source": [
    "x = 0x1234\n",
    "n = (x.bit_length() + 8 -1)//8  #按照8位对齐所需的字节数\n",
    "print(n)"
   ]
  },
  {
   "cell_type": "code",
   "execution_count": 16,
   "metadata": {},
   "outputs": [
    {
     "data": {
      "text/plain": [
       "bytes"
      ]
     },
     "execution_count": 16,
     "metadata": {},
     "output_type": "execute_result"
    }
   ],
   "source": [
    "b = x.to_bytes(n,sys.byteorder) #按照小端转换，低位在前\n",
    "type(b)"
   ]
  },
  {
   "cell_type": "code",
   "execution_count": 20,
   "metadata": {},
   "outputs": [
    {
     "data": {
      "text/plain": [
       "'34 12'"
      ]
     },
     "execution_count": 20,
     "metadata": {},
     "output_type": "execute_result"
    }
   ],
   "source": [
    "b.hex(' ')"
   ]
  },
  {
   "cell_type": "code",
   "execution_count": 23,
   "metadata": {},
   "outputs": [
    {
     "data": {
      "text/plain": [
       "'12 34'"
      ]
     },
     "execution_count": 23,
     "metadata": {},
     "output_type": "execute_result"
    }
   ],
   "source": [
    "b = x.to_bytes(n,'big')   #按照大端转换,高位在前\n",
    "b.hex(' ')"
   ]
  },
  {
   "cell_type": "code",
   "execution_count": 27,
   "metadata": {},
   "outputs": [
    {
     "data": {
      "text/plain": [
       "'0x1234'"
      ]
     },
     "execution_count": 27,
     "metadata": {},
     "output_type": "execute_result"
    }
   ],
   "source": [
    "y = int.from_bytes(b,'big') #讲字节数组转换为整数\n",
    "hex(y)\n"
   ]
  },
  {
   "cell_type": "code",
   "execution_count": 29,
   "metadata": {},
   "outputs": [],
   "source": [
    "#自定义bool\n",
    "class B(object):\n",
    "    def __init__(self,x):\n",
    "        self.x = x\n",
    "    def __bool__(self):\n",
    "        return self.x > 2\n"
   ]
  },
  {
   "cell_type": "code",
   "execution_count": 32,
   "metadata": {},
   "outputs": [
    {
     "data": {
      "text/plain": [
       "False"
      ]
     },
     "execution_count": 32,
     "metadata": {},
     "output_type": "execute_result"
    }
   ],
   "source": [
    "bool(B(2))"
   ]
  },
  {
   "cell_type": "code",
   "execution_count": 34,
   "metadata": {},
   "outputs": [
    {
     "data": {
      "text/plain": [
       "True"
      ]
     },
     "execution_count": 34,
     "metadata": {},
     "output_type": "execute_result"
    }
   ],
   "source": [
    "bool(B(3))"
   ]
  },
  {
   "cell_type": "code",
   "execution_count": 40,
   "metadata": {},
   "outputs": [
    {
     "data": {
      "text/plain": [
       "<enum 'color'>"
      ]
     },
     "execution_count": 40,
     "metadata": {},
     "output_type": "execute_result"
    }
   ],
   "source": [
    "# 枚举:\n",
    "import enum\n",
    "color = enum.Enum('color','black red blue')\n",
    "type(color.black)"
   ]
  },
  {
   "cell_type": "code",
   "execution_count": 43,
   "metadata": {},
   "outputs": [
    {
     "data": {
      "text/plain": [
       "'black'"
      ]
     },
     "execution_count": 43,
     "metadata": {},
     "output_type": "execute_result"
    }
   ],
   "source": [
    "color.black.name"
   ]
  },
  {
   "cell_type": "code",
   "execution_count": 45,
   "metadata": {},
   "outputs": [
    {
     "data": {
      "text/plain": [
       "[<color.black: 1>, <color.red: 2>, <color.blue: 3>]"
      ]
     },
     "execution_count": 45,
     "metadata": {},
     "output_type": "execute_result"
    }
   ],
   "source": [
    "list(color)"
   ]
  },
  {
   "cell_type": "code",
   "execution_count": 47,
   "metadata": {},
   "outputs": [
    {
     "data": {
      "text/plain": [
       "<X.C: [1, 2, 3]>"
      ]
     },
     "execution_count": 47,
     "metadata": {},
     "output_type": "execute_result"
    }
   ],
   "source": [
    "#自定义枚举\n",
    "class X(enum.Enum):\n",
    "    A = 'a'\n",
    "    B = 100\n",
    "    C = [1,2,3]\n",
    "\n",
    "X.C"
   ]
  },
  {
   "cell_type": "code",
   "execution_count": 49,
   "metadata": {},
   "outputs": [
    {
     "data": {
      "text/plain": [
       "[<X.A: 'a'>, <X.B: 100>, <X.C: [1, 2, 3]>]"
      ]
     },
     "execution_count": 49,
     "metadata": {},
     "output_type": "execute_result"
    }
   ],
   "source": [
    "list(X)"
   ]
  },
  {
   "cell_type": "code",
   "execution_count": 51,
   "metadata": {},
   "outputs": [
    {
     "data": {
      "text/plain": [
       "0.3333333333333333"
      ]
     },
     "execution_count": 51,
     "metadata": {},
     "output_type": "execute_result"
    }
   ],
   "source": [
    "# 浮点数\n",
    "1/3"
   ]
  },
  {
   "cell_type": "code",
   "execution_count": 60,
   "metadata": {},
   "outputs": [
    {
     "data": {
      "text/plain": [
       "True"
      ]
     },
     "execution_count": 60,
     "metadata": {},
     "output_type": "execute_result"
    }
   ],
   "source": [
    "0.1 * 4 == 0.4"
   ]
  },
  {
   "cell_type": "code",
   "execution_count": 62,
   "metadata": {},
   "outputs": [
    {
     "data": {
      "text/plain": [
       "False"
      ]
     },
     "execution_count": 62,
     "metadata": {},
     "output_type": "execute_result"
    }
   ],
   "source": [
    "0.1 * 3 == 0.3  # 0.3无理数"
   ]
  },
  {
   "cell_type": "code",
   "execution_count": 69,
   "metadata": {},
   "outputs": [
    {
     "data": {
      "text/plain": [
       "'0x1.3333333333334p-2'"
      ]
     },
     "execution_count": 69,
     "metadata": {},
     "output_type": "execute_result"
    }
   ],
   "source": [
    "(0.1*3).hex()"
   ]
  },
  {
   "cell_type": "code",
   "execution_count": 71,
   "metadata": {},
   "outputs": [
    {
     "data": {
      "text/plain": [
       "'0x1.3333333333333p-2'"
      ]
     },
     "execution_count": 71,
     "metadata": {},
     "output_type": "execute_result"
    }
   ],
   "source": [
    "0.3.hex()"
   ]
  },
  {
   "cell_type": "code",
   "execution_count": 74,
   "metadata": {},
   "outputs": [
    {
     "data": {
      "text/plain": [
       "3.3000000000000003"
      ]
     },
     "execution_count": 74,
     "metadata": {},
     "output_type": "execute_result"
    }
   ],
   "source": [
    "# Decimal\n",
    "1.1 + 2.2"
   ]
  },
  {
   "cell_type": "code",
   "execution_count": 77,
   "metadata": {},
   "outputs": [
    {
     "data": {
      "text/plain": [
       "False"
      ]
     },
     "execution_count": 77,
     "metadata": {},
     "output_type": "execute_result"
    }
   ],
   "source": [
    "0.1 + 0.1 + 0.1 - 0.3 == 0"
   ]
  },
  {
   "cell_type": "code",
   "execution_count": 86,
   "metadata": {},
   "outputs": [
    {
     "data": {
      "text/plain": [
       "False"
      ]
     },
     "execution_count": 86,
     "metadata": {},
     "output_type": "execute_result"
    }
   ],
   "source": [
    "'''\n",
    " 在创建Decimal实例时,应该传入一个准确的数值,比如整数或者字符串,\n",
    " 如果是float类型,在构建实例之前就存在精度问题\n",
    "\n",
    "'''\n",
    "from decimal import Decimal\n",
    "Decimal(1.1) + Decimal(2.2) == 3.3 "
   ]
  },
  {
   "cell_type": "code",
   "execution_count": 89,
   "metadata": {},
   "outputs": [
    {
     "data": {
      "text/plain": [
       "Context(prec=28, rounding=ROUND_HALF_EVEN, Emin=-999999, Emax=999999, capitals=1, clamp=0, flags=[], traps=[InvalidOperation, DivisionByZero, Overflow])"
      ]
     },
     "execution_count": 89,
     "metadata": {},
     "output_type": "execute_result"
    }
   ],
   "source": [
    "'''\n",
    "    一种方式是getcontext去解决\n",
    "    另外一种是采用localcontext限制特定区域的精度\n",
    "\n",
    "'''\n",
    "\n",
    "from decimal import Decimal ,getcontext\n",
    "getcontext()"
   ]
  },
  {
   "cell_type": "code",
   "execution_count": 91,
   "metadata": {},
   "outputs": [],
   "source": [
    "getcontext().prec = 2"
   ]
  },
  {
   "cell_type": "code",
   "execution_count": 93,
   "metadata": {},
   "outputs": [
    {
     "data": {
      "text/plain": [
       "Decimal('0.3333333333333333333333333333')"
      ]
     },
     "execution_count": 93,
     "metadata": {},
     "output_type": "execute_result"
    }
   ],
   "source": [
    "Decimal(1)/Decimal(3)"
   ]
  },
  {
   "cell_type": "code",
   "execution_count": 95,
   "metadata": {},
   "outputs": [
    {
     "name": "stdout",
     "output_type": "stream",
     "text": [
      "2\n",
      "0.33\n"
     ]
    }
   ],
   "source": [
    "from decimal import localcontext\n",
    "\n",
    "with localcontext() as ctx:\n",
    "    ctx.prec = 2\n",
    "    print(getcontext().prec)\n",
    "    print(Decimal(1)/Decimal(3))"
   ]
  },
  {
   "cell_type": "code",
   "execution_count": 97,
   "metadata": {},
   "outputs": [
    {
     "data": {
      "text/plain": [
       "0"
      ]
     },
     "execution_count": 97,
     "metadata": {},
     "output_type": "execute_result"
    }
   ],
   "source": [
    "#浮点数造成的精度问题影响四舍五入\n",
    "round(0.5)"
   ]
  },
  {
   "cell_type": "code",
   "execution_count": 99,
   "metadata": {},
   "outputs": [
    {
     "data": {
      "text/plain": [
       "2"
      ]
     },
     "execution_count": 99,
     "metadata": {},
     "output_type": "execute_result"
    }
   ],
   "source": [
    "round(1.5)"
   ]
  },
  {
   "cell_type": "code",
   "execution_count": 101,
   "metadata": {},
   "outputs": [
    {
     "data": {
      "text/plain": [
       "1"
      ]
     },
     "execution_count": 101,
     "metadata": {},
     "output_type": "execute_result"
    }
   ],
   "source": [
    "round(0.50000000000001)"
   ]
  },
  {
   "cell_type": "code",
   "execution_count": 103,
   "metadata": {},
   "outputs": [
    {
     "data": {
      "text/plain": [
       "1.2"
      ]
     },
     "execution_count": 103,
     "metadata": {},
     "output_type": "execute_result"
    }
   ],
   "source": [
    "round(1.25,1)"
   ]
  },
  {
   "cell_type": "code",
   "execution_count": 105,
   "metadata": {},
   "outputs": [
    {
     "data": {
      "text/plain": [
       "1.25"
      ]
     },
     "execution_count": 105,
     "metadata": {},
     "output_type": "execute_result"
    }
   ],
   "source": [
    "round(1.245,2)  #保留2位小数  5进位"
   ]
  },
  {
   "cell_type": "code",
   "execution_count": 106,
   "metadata": {},
   "outputs": [
    {
     "data": {
      "text/plain": [
       "2.67"
      ]
     },
     "execution_count": 106,
     "metadata": {},
     "output_type": "execute_result"
    }
   ],
   "source": [
    "round(2.673,2)"
   ]
  },
  {
   "cell_type": "code",
   "execution_count": 120,
   "metadata": {},
   "outputs": [
    {
     "data": {
      "text/plain": [
       "Decimal('1.2')"
      ]
     },
     "execution_count": 120,
     "metadata": {},
     "output_type": "execute_result"
    }
   ],
   "source": [
    "'''\n",
    "    因为解决四舍五入的问题的办法最好采用Decimal\n",
    "'''\n",
    "from decimal import Decimal,ROUND_HALF_UP\n",
    "\n",
    "def roundx(x,n='0'):\n",
    "    return Decimal(x).quantize(Decimal(n),ROUND_HALF_UP)\n",
    "roundx(1.24,'0.1')"
   ]
  },
  {
   "cell_type": "code",
   "execution_count": 119,
   "metadata": {},
   "outputs": [
    {
     "data": {
      "text/plain": [
       "Decimal('1')"
      ]
     },
     "execution_count": 119,
     "metadata": {},
     "output_type": "execute_result"
    }
   ],
   "source": [
    "roundx(0.5)"
   ]
  },
  {
   "cell_type": "code",
   "execution_count": 121,
   "metadata": {},
   "outputs": [
    {
     "data": {
      "text/plain": [
       "Decimal('1.2')"
      ]
     },
     "execution_count": 121,
     "metadata": {},
     "output_type": "execute_result"
    }
   ],
   "source": [
    "roundx(1.245,'.1')"
   ]
  },
  {
   "cell_type": "code",
   "execution_count": 122,
   "metadata": {},
   "outputs": [
    {
     "data": {
      "text/plain": [
       "Decimal('2.38')"
      ]
     },
     "execution_count": 122,
     "metadata": {},
     "output_type": "execute_result"
    }
   ],
   "source": [
    "roundx('2.375','.01')"
   ]
  }
 ],
 "metadata": {
  "kernelspec": {
   "display_name": "Python 3",
   "language": "python",
   "name": "python3"
  },
  "language_info": {
   "codemirror_mode": {
    "name": "ipython",
    "version": 3
   },
   "file_extension": ".py",
   "mimetype": "text/x-python",
   "name": "python",
   "nbconvert_exporter": "python",
   "pygments_lexer": "ipython3",
   "version": "3.8.2"
  }
 },
 "nbformat": 4,
 "nbformat_minor": 4
}
