{
 "cells": [
  {
   "cell_type": "markdown",
   "metadata": {},
   "source": [
    "# 模块\n",
    "    模块是一个包含所有你定义的函数和变量的文件，其后缀名是.py。模块可以被别的程序引入，以使用该模块中的函数等功能。\n",
    "    import :导入一个模块整体\n",
    "    import xxx from xxx 导入特定的部分到当前命名空间\n",
    "    import xxx from xxx as xx  重命名\n",
    "    \n",
    "    为什么使用模块:\n",
    "        方便将函数和变量归类到一个命名空间\n",
    "        代码重用\n",
    "     \n",
    "    程序划分:\n",
    "        很多文件 一个函数入口,在python中这些文件称作模块\n",
    "        \n",
    "        "
   ]
  },
  {
   "cell_type": "code",
   "execution_count": 2,
   "metadata": {},
   "outputs": [],
   "source": [
    "# m1.py\n",
    "def m1(s):\n",
    "    print(s,'m1')"
   ]
  },
  {
   "cell_type": "code",
   "execution_count": 4,
   "metadata": {},
   "outputs": [
    {
     "ename": "ModuleNotFoundError",
     "evalue": "No module named 'm1'",
     "output_type": "error",
     "traceback": [
      "\u001b[0;31m---------------------------------------------------------------------------\u001b[0m",
      "\u001b[0;31mModuleNotFoundError\u001b[0m                       Traceback (most recent call last)",
      "\u001b[0;32m<ipython-input-4-1a03f8d29b6c>\u001b[0m in \u001b[0;36m<module>\u001b[0;34m\u001b[0m\n\u001b[1;32m      1\u001b[0m \u001b[0;31m# m2.py\u001b[0m\u001b[0;34m\u001b[0m\u001b[0;34m\u001b[0m\u001b[0;34m\u001b[0m\u001b[0m\n\u001b[0;32m----> 2\u001b[0;31m \u001b[0;32mimport\u001b[0m \u001b[0mm1\u001b[0m  \u001b[0;31m#导入m1这个包\u001b[0m\u001b[0;34m\u001b[0m\u001b[0;34m\u001b[0m\u001b[0m\n\u001b[0m\u001b[1;32m      3\u001b[0m \u001b[0mm1\u001b[0m\u001b[0;34m.\u001b[0m\u001b[0mm1\u001b[0m\u001b[0;34m(\u001b[0m\u001b[0;34m'1'\u001b[0m\u001b[0;34m)\u001b[0m\u001b[0;34m\u001b[0m\u001b[0;34m\u001b[0m\u001b[0m\n",
      "\u001b[0;31mModuleNotFoundError\u001b[0m: No module named 'm1'"
     ]
    }
   ],
   "source": [
    "# m2.py\n",
    "import m1  #导入m1这个包\n",
    "m1.m1('1')  "
   ]
  },
  {
   "cell_type": "code",
   "execution_count": 5,
   "metadata": {},
   "outputs": [
    {
     "data": {
      "text/plain": [
       "'\\n    导包过程:\\n        首先import语句在文件的最开始,这样就给当前要引入包的文件提供了访问被引用包中所有对象的访问权限\\n        y也就是说,加载引入了文件,就能够获取被加载文件中的对象的的所有属性(引用对象的所有属性)\\n'"
      ]
     },
     "execution_count": 5,
     "metadata": {},
     "output_type": "execute_result"
    }
   ],
   "source": [
    "'''\n",
    "    导包过程:\n",
    "        首先import语句在文件的最开始,这样就给当前要引入包的文件提供了访问被引用包中所有对象的访问权限\n",
    "        y也就是说,加载引入了文件,就能够获取被加载文件中的对象的的所有属性(引用对象的所有属性)\n",
    "        \n",
    "        程序第一次导包的时候，先搜索模块,然后编译成字节码，在执行模块代码\n",
    "            导入相同的模块的时候，只会在内存中查找已加载的模块对象\n",
    "            sys.modules中表中去查找，如果不存在会执行上面的导包过程\n",
    "            如果模块文件发生变化,对比时间戳,会生成新的字节码文件\n",
    "            \n",
    "            import操作的最后步骤是执行模块的字节码\n",
    "'''"
   ]
  },
  {
   "cell_type": "markdown",
   "metadata": {},
   "source": [
    "    object.attribute这类表示法\n",
    "        多数对象都有一些可用的属性，可以通过“.”运算符取出。有些是可调用的对象。例如，函数，而其他的则是简单数据数值，给予对象特定的属性"
   ]
  },
  {
   "cell_type": "code",
   "execution_count": 6,
   "metadata": {},
   "outputs": [
    {
     "data": {
      "text/plain": [
       "1"
      ]
     },
     "execution_count": 6,
     "metadata": {},
     "output_type": "execute_result"
    }
   ],
   "source": [
    "class A(object):\n",
    "    def __init__(self,name):\n",
    "        self.name = name\n",
    "a = A(1)\n",
    "a.name"
   ]
  }
 ],
 "metadata": {
  "kernelspec": {
   "display_name": "Python 3",
   "language": "python",
   "name": "python3"
  },
  "language_info": {
   "codemirror_mode": {
    "name": "ipython",
    "version": 3
   },
   "file_extension": ".py",
   "mimetype": "text/x-python",
   "name": "python",
   "nbconvert_exporter": "python",
   "pygments_lexer": "ipython3",
   "version": "3.8.2"
  }
 },
 "nbformat": 4,
 "nbformat_minor": 4
}
