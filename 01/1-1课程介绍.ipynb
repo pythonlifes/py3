{
 "cells": [
  {
   "cell_type": "markdown",
   "metadata": {},
   "source": [
    "# 零基础Python入门\n",
    "    1:课程介绍\n",
    "        为什么要学计算机编程?\n",
    "            现在的世界是个IT世界,在数字化的今天,可以当做一门工具技能去用,平时生活中我们接触的很多东西都离不开编程,比如手机,只能治其人等等\n",
    "        课程面向对象:\n",
    "            零基础编程的初学者\n",
    "            计算机程序设计的爱好者\n",
    "            没有接触过python的数据分析爱好者\n",
    "        课程内容:\n",
    "            程序设计基础\n",
    "            Python基础语法\n",
    "            程序设计方法\n",
    "            编程案例\n",
    "         课程目标:\n",
    "             让初学者快速入门,熟练掌握Python语言的基本概念\n",
    "             对计算机程序设计方法有一定的理解\n",
    "             掌握利用Python编写代码的能力\n",
    "             利用Python解决计算问题的能力\n",
    "         课程形式:在线直播形式,每节都会有代码讲解和编写代码要注意的点"
   ]
  }
 ],
 "metadata": {
  "kernelspec": {
   "display_name": "Python 3",
   "language": "python",
   "name": "python3"
  },
  "language_info": {
   "codemirror_mode": {
    "name": "ipython",
    "version": 3
   },
   "file_extension": ".py",
   "mimetype": "text/x-python",
   "name": "python",
   "nbconvert_exporter": "python",
   "pygments_lexer": "ipython3",
   "version": "3.8.2"
  }
 },
 "nbformat": 4,
 "nbformat_minor": 4
}
