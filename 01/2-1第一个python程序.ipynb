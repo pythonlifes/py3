{
 "cells": [
  {
   "cell_type": "markdown",
   "metadata": {},
   "source": [
    "# 目标:\n",
    "    编写第一个程序 helloworld.py\n",
    "    了解python的执行过程\n",
    "    python2与python3的介绍\n",
    "    \n",
    "# 一: 编写第一个程序\n",
    "    首先:python源代码是一种特殊的文本\n",
    "       文件扩展名是.py 中间文件为.pyc(字节码文件)(特点是如果有引用其他模块,就会产生pyc文件)\n",
    "    #在linux下 用vim打开一个文件\n",
    "        vim 01-helloworld.py\n",
    "            print('hello world') #print是一个函数,作用是讲内容输出到屏幕\n",
    "    \n",
    "    \n",
    "    # 程序分解操作:\n",
    "        模块,语句,表达式\n",
    "        程序由模块组成\n",
    "        模块包含一条或者多条语句\n",
    "        语句包含表达式\n",
    "        表达式用来表述对象\n",
    "     "
   ]
  },
  {
   "cell_type": "markdown",
   "metadata": {},
   "source": [
    "# 二:执行python代码\n",
    "    # 1:解释器 +要执行的文件名\n",
    "        python 01-helloworld.py\n",
    "    # 交互型:\n",
    "        在终端中打开一个python解释器(代码没有高亮显示,无法跳回原来代码去修改等缺点)\n",
    "        ipython"
   ]
  },
  {
   "cell_type": "markdown",
   "metadata": {},
   "source": [
    "# 命名规则\n",
    "    下划线或字母+任意数目的字母、数字或下划线\n",
    "    变量名必须以下划线或字母开头，而后面接任意数目的字母、数字或下划线。_spam、spam以及Spam_1都是合法的变量名，\n",
    "        但1-Spam、spam$以及@#!则不是。\n",
    "     区分大小写：SPAM和spam并不同\n",
    "     禁止使用保留字\n",
    "     \n"
   ]
  },
  {
   "cell_type": "markdown",
   "metadata": {},
   "source": [
    "# 命名惯例\n",
    "    以单一下划线开头的变量名（_X）不会被from module import *语句导入\n",
    "    前后有下划线的变量名（__X__）是系统定义的变量名，对解释器有特殊意义\n",
    "    以两下划线开头、但结尾没有两个下划线的变量名（__X）是类的本地（“压缩”）变量\n",
    "    通过交互模式运行时，只有单个下划线的变量名（_）会保存最后表达式的结果\n",
    "        _ = 1\n",
    "    变量名没有类型，但对象有"
   ]
  },
  {
   "cell_type": "markdown",
   "metadata": {},
   "source": [
    "# 三:错误\n",
    "    什么样的才算是错误(异常bug)\n",
    "        1:输出结果和预期不一致,比如想输出hello world ,结果输出了world\n",
    "        2:异常bug:可能是手误或者是对一些理解不足,比如判断字符串是不是整数(isdigit)\n",
    "            eg: a = '123'\n",
    "              a.isdigit()"
   ]
  },
  {
   "cell_type": "code",
   "execution_count": 18,
   "metadata": {
    "scrolled": true
   },
   "outputs": [
    {
     "data": {
      "text/plain": [
       "False"
      ]
     },
     "execution_count": 18,
     "metadata": {},
     "output_type": "execute_result"
    }
   ],
   "source": [
    "a = '123.122q'\n",
    "a.isdigit()"
   ]
  },
  {
   "cell_type": "code",
   "execution_count": 20,
   "metadata": {},
   "outputs": [
    {
     "ename": "ValueError",
     "evalue": "invalid literal for int() with base 10: '123.122q'",
     "output_type": "error",
     "traceback": [
      "\u001b[0;31m---------------------------------------------------------------------------\u001b[0m",
      "\u001b[0;31mValueError\u001b[0m                                Traceback (most recent call last)",
      "\u001b[0;32m<ipython-input-20-e6485df77fbb>\u001b[0m in \u001b[0;36m<module>\u001b[0;34m\u001b[0m\n\u001b[1;32m      1\u001b[0m \u001b[0ma\u001b[0m \u001b[0;34m=\u001b[0m \u001b[0;34m'123.122q'\u001b[0m\u001b[0;34m\u001b[0m\u001b[0;34m\u001b[0m\u001b[0m\n\u001b[0;32m----> 2\u001b[0;31m \u001b[0mint\u001b[0m\u001b[0;34m(\u001b[0m\u001b[0ma\u001b[0m\u001b[0;34m)\u001b[0m\u001b[0;34m\u001b[0m\u001b[0;34m\u001b[0m\u001b[0m\n\u001b[0m",
      "\u001b[0;31mValueError\u001b[0m: invalid literal for int() with base 10: '123.122q'"
     ]
    }
   ],
   "source": [
    "a = '123.122q'\n",
    "int(a)"
   ]
  },
  {
   "cell_type": "code",
   "execution_count": 22,
   "metadata": {},
   "outputs": [
    {
     "ename": "NameError",
     "evalue": "name 'pirnt' is not defined",
     "output_type": "error",
     "traceback": [
      "\u001b[0;31m---------------------------------------------------------------------------\u001b[0m",
      "\u001b[0;31mNameError\u001b[0m                                 Traceback (most recent call last)",
      "\u001b[0;32m<ipython-input-22-11938567d5dd>\u001b[0m in \u001b[0;36m<module>\u001b[0;34m\u001b[0m\n\u001b[1;32m      1\u001b[0m \u001b[0;31m# 四:python中常见的错误\u001b[0m\u001b[0;34m\u001b[0m\u001b[0;34m\u001b[0m\u001b[0;34m\u001b[0m\u001b[0m\n\u001b[1;32m      2\u001b[0m     \u001b[0;31m#1:拼写错误,eg:print写成 prin()\u001b[0m\u001b[0;34m\u001b[0m\u001b[0;34m\u001b[0m\u001b[0;34m\u001b[0m\u001b[0m\n\u001b[0;32m----> 3\u001b[0;31m \u001b[0mpirnt\u001b[0m\u001b[0;34m(\u001b[0m\u001b[0;36m1\u001b[0m\u001b[0;34m)\u001b[0m\u001b[0;34m\u001b[0m\u001b[0;34m\u001b[0m\u001b[0m\n\u001b[0m",
      "\u001b[0;31mNameError\u001b[0m: name 'pirnt' is not defined"
     ]
    }
   ],
   "source": [
    "# 四:python中常见的错误\n",
    "    #1:拼写错误,eg:print写成 prin()\n",
    "pirnt(1)"
   ]
  },
  {
   "cell_type": "code",
   "execution_count": 25,
   "metadata": {},
   "outputs": [
    {
     "ename": "IndentationError",
     "evalue": "unexpected indent (<ipython-input-25-ae9128049f82>, line 2)",
     "output_type": "error",
     "traceback": [
      "\u001b[0;36m  File \u001b[0;32m\"<ipython-input-25-ae9128049f82>\"\u001b[0;36m, line \u001b[0;32m2\u001b[0m\n\u001b[0;31m    print(1)\u001b[0m\n\u001b[0m    ^\u001b[0m\n\u001b[0;31mIndentationError\u001b[0m\u001b[0;31m:\u001b[0m unexpected indent\n"
     ]
    }
   ],
   "source": [
    "    # 2:缩进错误\n",
    "     print(1)"
   ]
  },
  {
   "cell_type": "code",
   "execution_count": 35,
   "metadata": {},
   "outputs": [
    {
     "ename": "IndentationError",
     "evalue": "unexpected indent (<ipython-input-35-8d2d270a57a7>, line 2)",
     "output_type": "error",
     "traceback": [
      "\u001b[0;36m  File \u001b[0;32m\"<ipython-input-35-8d2d270a57a7>\"\u001b[0;36m, line \u001b[0;32m2\u001b[0m\n\u001b[0;31m    print(1).\u001b[0m\n\u001b[0m    ^\u001b[0m\n\u001b[0;31mIndentationError\u001b[0m\u001b[0;31m:\u001b[0m unexpected indent\n"
     ]
    }
   ],
   "source": [
    "    # 3：语法错误\n",
    "     print(1)."
   ]
  },
  {
   "cell_type": "code",
   "execution_count": 1,
   "metadata": {},
   "outputs": [
    {
     "ename": "SyntaxError",
     "evalue": "invalid character in identifier (<ipython-input-1-7bdb3cae7417>, line 2)",
     "output_type": "error",
     "traceback": [
      "\u001b[0;36m  File \u001b[0;32m\"<ipython-input-1-7bdb3cae7417>\"\u001b[0;36m, line \u001b[0;32m2\u001b[0m\n\u001b[0;31m    print(1)；\u001b[0m\n\u001b[0m            ^\u001b[0m\n\u001b[0;31mSyntaxError\u001b[0m\u001b[0;31m:\u001b[0m invalid character in identifier\n"
     ]
    }
   ],
   "source": [
    "    # 标识符中的字符无效\n",
    "    print(1)；"
   ]
  },
  {
   "cell_type": "code",
   "execution_count": 5,
   "metadata": {},
   "outputs": [
    {
     "ename": "NameError",
     "evalue": "name 'x' is not defined",
     "output_type": "error",
     "traceback": [
      "\u001b[0;31m---------------------------------------------------------------------------\u001b[0m",
      "\u001b[0;31mNameError\u001b[0m                                 Traceback (most recent call last)",
      "\u001b[0;32m<ipython-input-5-74c4d065e2d7>\u001b[0m in \u001b[0;36m<module>\u001b[0;34m\u001b[0m\n\u001b[1;32m      1\u001b[0m \u001b[0;31m# x未定义\u001b[0m\u001b[0;34m\u001b[0m\u001b[0;34m\u001b[0m\u001b[0;34m\u001b[0m\u001b[0m\n\u001b[0;32m----> 2\u001b[0;31m \u001b[0mx\u001b[0m\u001b[0;34m\u001b[0m\u001b[0;34m\u001b[0m\u001b[0m\n\u001b[0m",
      "\u001b[0;31mNameError\u001b[0m: name 'x' is not defined"
     ]
    }
   ],
   "source": [
    "    # x未定义\n",
    "    x"
   ]
  },
  {
   "cell_type": "markdown",
   "metadata": {},
   "source": [
    "# 四:python3与python2的介绍\n",
    "    python2已经快成为历史\n",
    "    python3不能向下兼容(2008年发布)推荐使用python3"
   ]
  },
  {
   "cell_type": "markdown",
   "metadata": {},
   "source": [
    "# 五:赋值操作\n",
    "    python中的赋值操作总是建立在对象的引用值,而不是复制对象,即所谓的就是对象的引用(别名)\n",
    "    所谓的变量(符号)就是一个别名:\n",
    "        在第一次赋值时创建\n",
    "        在表达式中使用将被替换为他们的值\n",
    "        在表达式中使用之前必须被赋值\n",
    "     换句话说,赋值操作就会让变量自动生成"
   ]
  },
  {
   "cell_type": "code",
   "execution_count": 11,
   "metadata": {},
   "outputs": [
    {
     "data": {
      "text/plain": [
       "[1, [...], 3]"
      ]
     },
     "execution_count": 11,
     "metadata": {},
     "output_type": "execute_result"
    }
   ],
   "source": [
    "values = [1,2,3]\n",
    "values[1] = values\n",
    "values"
   ]
  },
  {
   "cell_type": "code",
   "execution_count": 14,
   "metadata": {},
   "outputs": [
    {
     "name": "stdout",
     "output_type": "stream",
     "text": [
      "1\n",
      "[1, [...], 3]\n",
      "1\n",
      "[1, [...], 3]\n",
      "3\n",
      "3\n"
     ]
    }
   ],
   "source": [
    "for i in values:\n",
    "    print(i)\n",
    "    if isinstance(i,list):\n",
    "        for _i in i:\n",
    "            print(_i)"
   ]
  },
  {
   "cell_type": "markdown",
   "metadata": {},
   "source": [
    "# 延伸:\n",
    "    a = 3\n",
    "        1:创建一个对象来表示值3\n",
    "        2:创建一个变量a(a不存在)\n",
    "        3:将变量与新的对象3绑定在一起\n",
    "        \n",
    "          变量a              对象\n",
    "           ______    引用       _____ \n",
    "          |__A___|  --------->    |__3__|  \n",
    "          \n",
    "          在运行a=3后,变量a变成对象3的一个引用,a是指向3这个对象内存空间地址的一个指针\n",
    "    \n",
    "    在python中从变量到对象的连接叫做引用\n",
    "          \n",
    "    a = 3\n",
    "    a = 'abc'\n",
    "    这个过程发生了什么?\n",
    "        在python中,每当一个变量名被赋予一个新的对象,之前的那个对象占用的空间就会被回收(没有被其他对象所引用),即所谓的垃圾回收机制\n",
    "        "
   ]
  },
  {
   "cell_type": "code",
   "execution_count": null,
   "metadata": {},
   "outputs": [],
   "source": []
  }
 ],
 "metadata": {
  "kernelspec": {
   "display_name": "Python 3",
   "language": "python",
   "name": "python3"
  },
  "language_info": {
   "codemirror_mode": {
    "name": "ipython",
    "version": 3
   },
   "file_extension": ".py",
   "mimetype": "text/x-python",
   "name": "python",
   "nbconvert_exporter": "python",
   "pygments_lexer": "ipython3",
   "version": "3.8.2"
  }
 },
 "nbformat": 4,
 "nbformat_minor": 4
}
