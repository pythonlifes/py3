{
 "cells": [
  {
   "cell_type": "markdown",
   "metadata": {},
   "source": [
    "# 列表\n",
    "    通过方括号括起、逗号分隔的一组值得到,其中元素类型可以不同,所有的切片操作都返回一个包含所请求元素的新列表\n",
    "    s[:]:浅拷贝(延伸https://docs.python.org/zh-cn/3/library/copy.html#shallow-vs-deep-copy)"
   ]
  }
 ],
 "metadata": {
  "kernelspec": {
   "display_name": "Python 3",
   "language": "python",
   "name": "python3"
  },
  "language_info": {
   "codemirror_mode": {
    "name": "ipython",
    "version": 3
   },
   "file_extension": ".py",
   "mimetype": "text/x-python",
   "name": "python",
   "nbconvert_exporter": "python",
   "pygments_lexer": "ipython3",
   "version": "3.8.2"
  }
 },
 "nbformat": 4,
 "nbformat_minor": 4
}
