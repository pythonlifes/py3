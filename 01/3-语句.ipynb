{
 "cells": [
  {
   "cell_type": "markdown",
   "metadata": {},
   "source": [
    "# 一:简单语句\n",
    "    # 表达式\n",
    "        用于计算和写入值(大多数在交互模式下)\n",
    "    # 赋值语句\n",
    "        用于将名称（重）绑定到特定值\n",
    "    # assert\n",
    "        程序中插入调试性断言的简便方式\n",
    "        assert True == 1\n",
    "    # pass\n",
    "        一个空操作 --- 当它被执行时，什么不发生,用来临时占位\n",
    "    # del\n",
    "        删除操作(列表的删除将从左至右递归地删除每一个目标)\n",
    "        名称的删除将从局部或全局命名空间中移除该名称的绑定\n",
    "        a = [1,2,3]\n",
    "        del a[1:]  #等价于赋值为一个右侧类型的空切片\n",
    "        del a\n",
    "    # return\n",
    "        出现在函数中,离开当前函数(返回对应的数据)\n",
    "    # yield \n",
    "        仅在定义 generator(生成器) 函数时使用\n",
    "    # raise \n",
    "        显示引发异常\n",
    "    # break\n",
    "        只会出现于 for 或 while 循环所嵌套的代码,用于终止最近的外层循环，当 break 将控制流传出一个带有 finally 子句的 try 语句时，该 finally 子句会先被执行然后再真正离开该循环。\n",
    "    # continue\n",
    "        同break一样,用于继续执行最近的外层循环的下一个轮次 ，当 continue 将控制流传出一个带有 finally 子句的 try 语句时，该 finally 子句会先被执行然后再真正开始循环的下一个轮次。\n",
    "    # import\n",
    "        导包\n",
    "    #  global\n",
    "        作用于整个当前代码块的声明\n",
    "    # nonlocal \n",
    "        会使得所列出的名称指向之前在最近的包含作用域中绑定的除全局变量以外的变量。因为绑定的默认行为是先搜索局部命名空间。 这个语句允许被封装的代码重新绑定局部作用域以外且非全局（模块）作用域当中的变量。\n",
    "        与 global 语句中列出的名称不同，nonlocal 语句中列出的名称必须指向之前存在于包含作用域之中的绑定（在这个应当用来创建新绑定的作用域不能被无歧义地确定）。\n",
    "        nonlocal 语句中列出的名称不得与之前存在于局部作用域中的绑定相冲突"
   ]
  },
  {
   "cell_type": "code",
   "execution_count": 6,
   "metadata": {},
   "outputs": [],
   "source": [
    "assert True == 1"
   ]
  },
  {
   "cell_type": "code",
   "execution_count": 8,
   "metadata": {},
   "outputs": [
    {
     "ename": "RuntimeError",
     "evalue": "No active exception to reraise",
     "output_type": "error",
     "traceback": [
      "\u001b[0;31m---------------------------------------------------------------------------\u001b[0m",
      "\u001b[0;31mRuntimeError\u001b[0m                              Traceback (most recent call last)",
      "\u001b[0;32m<ipython-input-8-01be21e57880>\u001b[0m in \u001b[0;36m<module>\u001b[0;34m\u001b[0m\n\u001b[0;32m----> 1\u001b[0;31m \u001b[0;32mraise\u001b[0m\u001b[0;34m\u001b[0m\u001b[0;34m\u001b[0m\u001b[0m\n\u001b[0m",
      "\u001b[0;31mRuntimeError\u001b[0m: No active exception to reraise"
     ]
    }
   ],
   "source": [
    "raise "
   ]
  },
  {
   "cell_type": "markdown",
   "metadata": {},
   "source": [
    "# 二:复合语句\n",
    "    包含其它语句（语句组）的语句\n",
    "    if语句:\n",
    "       用于有条件的执行(布尔)\n",
    "       if stmt:\n",
    "           pass\n",
    "       elif:\n",
    "         print('1')\n",
    "       else:\n",
    "         print()\n",
    "     while:\n",
    "        用于在表达式保持为真的情况下重复地执行\n",
    "        count = 3\n",
    "        while 1:\n",
    "            print(count)\n",
    "            count +=1\n",
    "            if count >= 3:\n",
    "                break\n",
    "     for:\n",
    "         用于可迭代对象中的元素进行迭代\n",
    "     try:\n",
    "         可为一组语句指定异常处理器和/或清理代码\n",
    "     with:\n",
    "         用于包装带有使用上下文管理器定义的方法的代码块的执行\n",
    "     async for:\n",
    "     async with:"
   ]
  },
  {
   "cell_type": "code",
   "execution_count": 12,
   "metadata": {},
   "outputs": [
    {
     "name": "stdout",
     "output_type": "stream",
     "text": [
      "3\n"
     ]
    }
   ],
   "source": [
    "count = 3\n",
    "while 1:\n",
    "    print(count)\n",
    "    count +=1\n",
    "    if count >= 3:\n",
    "        break"
   ]
  }
 ],
 "metadata": {
  "kernelspec": {
   "display_name": "Python 3",
   "language": "python",
   "name": "python3"
  },
  "language_info": {
   "codemirror_mode": {
    "name": "ipython",
    "version": 3
   },
   "file_extension": ".py",
   "mimetype": "text/x-python",
   "name": "python",
   "nbconvert_exporter": "python",
   "pygments_lexer": "ipython3",
   "version": "3.8.2"
  }
 },
 "nbformat": 4,
 "nbformat_minor": 4
}
