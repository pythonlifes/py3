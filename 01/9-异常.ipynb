{
 "cells": [
  {
   "cell_type": "markdown",
   "metadata": {},
   "source": [
    "# 错误和异常\n",
    "    1:语法错误\n",
    "        初学者经常犯的拼写错误等\n",
    "        while 1 print()\n",
    "    2:异常\n",
    "         在代码执行过程中,由于外部原因或者一些其他因素引起的错误\n",
    "             eg:内存爆了,或者一些异常没考虑到(4 + x*3) 未定义  除0操作等\n",
    "    3:处理异常\n",
    "        "
   ]
  }
 ],
 "metadata": {
  "kernelspec": {
   "display_name": "Python 3",
   "language": "python",
   "name": "python3"
  },
  "language_info": {
   "codemirror_mode": {
    "name": "ipython",
    "version": 3
   },
   "file_extension": ".py",
   "mimetype": "text/x-python",
   "name": "python",
   "nbconvert_exporter": "python",
   "pygments_lexer": "ipython3",
   "version": "3.8.2"
  }
 },
 "nbformat": 4,
 "nbformat_minor": 4
}
