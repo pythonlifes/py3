{
 "cells": [
  {
   "cell_type": "markdown",
   "metadata": {},
   "source": [
    "# 字节\n",
    "    在python3中引入了两个新的类型:\n",
    "        bytes:不可变字节序列\n",
    "        bytearray:字节数组,可变\n",
    "    \n",
    "    1:字符串与bytes\n",
    "        字符串是字符组成的有序序列\n",
    "        bytes是字节组成的不可变序列\n",
    "        bytearray是字节组成的有序可变序列\n",
    "    2:编码解码\n",
    "        编码:字符串按照不同的字符集编码(encode)返回字节序列bytes的过程\n",
    "            encode(encoding='utf-8') --->bytes\n",
    "        解码:字节序列按照不同的字符集解码(decode)返回字符串的过程\n",
    "        bytes.decode(encoding='utf-8') --->str\n",
    "        bytearray.decode(encoding='utf-8')--->str\n",
    "     \n",
    "    #3:序列化和反序列化"
   ]
  },
  {
   "cell_type": "code",
   "execution_count": null,
   "metadata": {},
   "outputs": [],
   "source": [
    "'''\n",
    "使用b 前缀定义：\n",
    "    只允许基本的ASCII使用字符形式b'abc9'\n",
    "    使用16进制表示b'\\x00\\x00\\x00\\x00\\x00'\n",
    "'''"
   ]
  },
  {
   "cell_type": "code",
   "execution_count": 2,
   "metadata": {},
   "outputs": [
    {
     "name": "stdout",
     "output_type": "stream",
     "text": [
      "b'xyz'\n"
     ]
    }
   ],
   "source": [
    "a = 'xyz'.encode() #编码 默认是utf-8\n",
    "print(a)"
   ]
  },
  {
   "cell_type": "code",
   "execution_count": 4,
   "metadata": {},
   "outputs": [
    {
     "name": "stdout",
     "output_type": "stream",
     "text": [
      "xyz\n"
     ]
    }
   ],
   "source": [
    "y = a.decode()\n",
    "print(y)"
   ]
  },
  {
   "cell_type": "markdown",
   "metadata": {},
   "source": [
    "    3:bytes的定义\n",
    "        bytes():表示一个空的字节,默认被0填充\n",
    "        bytes(iterable) 0-255组成的可迭代序列\n",
    "        bytes(string) ,等价于string.encode()\n",
    "        bytes(bytes or buffer):从字节序列或者buffer缓冲区copy一个新的对象"
   ]
  },
  {
   "cell_type": "code",
   "execution_count": 7,
   "metadata": {},
   "outputs": [
    {
     "data": {
      "text/plain": [
       "b'\\x00\\x00\\x00\\x00\\x00'"
      ]
     },
     "execution_count": 7,
     "metadata": {},
     "output_type": "execute_result"
    }
   ],
   "source": [
    "bytes(5)"
   ]
  },
  {
   "cell_type": "code",
   "execution_count": 11,
   "metadata": {},
   "outputs": [
    {
     "ename": "ValueError",
     "evalue": "bytes must be in range(0, 256)",
     "output_type": "error",
     "traceback": [
      "\u001b[0;31m---------------------------------------------------------------------------\u001b[0m",
      "\u001b[0;31mValueError\u001b[0m                                Traceback (most recent call last)",
      "\u001b[0;32m<ipython-input-11-fa3815fab9de>\u001b[0m in \u001b[0;36m<module>\u001b[0;34m\u001b[0m\n\u001b[0;32m----> 1\u001b[0;31m \u001b[0mbytes\u001b[0m\u001b[0;34m(\u001b[0m\u001b[0mrange\u001b[0m\u001b[0;34m(\u001b[0m\u001b[0;36m266\u001b[0m\u001b[0;34m)\u001b[0m\u001b[0;34m)\u001b[0m\u001b[0;34m\u001b[0m\u001b[0;34m\u001b[0m\u001b[0m\n\u001b[0m",
      "\u001b[0;31mValueError\u001b[0m: bytes must be in range(0, 256)"
     ]
    }
   ],
   "source": [
    "bytes(range(266))"
   ]
  },
  {
   "cell_type": "markdown",
   "metadata": {},
   "source": [
    "    4:bytes操作:\n",
    "        "
   ]
  },
  {
   "cell_type": "code",
   "execution_count": 14,
   "metadata": {},
   "outputs": [
    {
     "data": {
      "text/plain": [
       "b'abcff'"
      ]
     },
     "execution_count": 14,
     "metadata": {},
     "output_type": "execute_result"
    }
   ],
   "source": [
    "#replace:替换操作\n",
    "b'abcd'.replace(b'd',b'ff')"
   ]
  },
  {
   "cell_type": "code",
   "execution_count": 17,
   "metadata": {},
   "outputs": [
    {
     "data": {
      "text/plain": [
       "3"
      ]
     },
     "execution_count": 17,
     "metadata": {},
     "output_type": "execute_result"
    }
   ],
   "source": [
    "#查找操作 find\n",
    "b'abcd'.find(b'd')"
   ]
  },
  {
   "cell_type": "markdown",
   "metadata": {},
   "source": [
    "    5:bytearray:\n",
    "       bytearray()空bytearray,bytearray(int)指定字节的bytearray，被0填充\n",
    "       bytearray(iterable_of_ints)--->bytearray[0,255]int组成的可迭代对象\n",
    "      　bytearray( bytes_or_buffer) 从一个字节序列或buffer复制出一个新的可变的bytearray对象"
   ]
  },
  {
   "cell_type": "code",
   "execution_count": null,
   "metadata": {},
   "outputs": [],
   "source": []
  }
 ],
 "metadata": {
  "kernelspec": {
   "display_name": "Python 3",
   "language": "python",
   "name": "python3"
  },
  "language_info": {
   "codemirror_mode": {
    "name": "ipython",
    "version": 3
   },
   "file_extension": ".py",
   "mimetype": "text/x-python",
   "name": "python",
   "nbconvert_exporter": "python",
   "pygments_lexer": "ipython3",
   "version": "3.8.2"
  }
 },
 "nbformat": 4,
 "nbformat_minor": 4
}
