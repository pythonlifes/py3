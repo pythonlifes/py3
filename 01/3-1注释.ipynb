{
 "cells": [
  {
   "cell_type": "markdown",
   "metadata": {},
   "source": [
    "\n",
    "# 1:为什么要有注释\n",
    "    在程序开发过程中,对某些代码片段进行标注说明,可以增强代码的可读性\n",
    "# 2:python中注释都有哪些方式\n",
    "    1:单行注释 #开头 \n",
    "        # 输出hello world\n",
    "        print('hello world')\n",
    "        print('hello world')  # 注释和代码之间有两个空格\n",
    "    2:多行注释:   ''' xxx  '''   \"\"\" xxx \"\"\"\n",
    "    \n",
    "# 3:pep8\n",
    "    注释不是越多越好,\n",
    "    比较复杂的代码片段，可以在代码前加注释\n",
    "    代码规范:\n",
    "        官方提出pep文档,其中第8篇文档提出了python的代码格式,俗称pep8\n",
    "        https://zh-google-styleguide.readthedocs.io/en/latest/google-python-styleguide/python_language_rules/#"
   ]
  }
 ],
 "metadata": {
  "kernelspec": {
   "display_name": "Python 3",
   "language": "python",
   "name": "python3"
  },
  "language_info": {
   "codemirror_mode": {
    "name": "ipython",
    "version": 3
   },
   "file_extension": ".py",
   "mimetype": "text/x-python",
   "name": "python",
   "nbconvert_exporter": "python",
   "pygments_lexer": "ipython3",
   "version": "3.8.2"
  }
 },
 "nbformat": 4,
 "nbformat_minor": 4
}
