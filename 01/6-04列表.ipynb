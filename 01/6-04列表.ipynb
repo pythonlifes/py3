{
 "cells": [
  {
   "cell_type": "markdown",
   "metadata": {},
   "source": [
    "# 列表\n",
    "    通过方括号括起、逗号分隔的一组值得到,其中元素类型可以不同,所有的切片操作都返回一个包含所请求元素的新列表\n",
    "    s[:]:浅拷贝(延伸https://docs.python.org/zh-cn/3/library/copy.html#shallow-vs-deep-copy)"
   ]
  },
  {
   "cell_type": "code",
   "execution_count": 4,
   "metadata": {},
   "outputs": [
    {
     "name": "stdout",
     "output_type": "stream",
     "text": [
      "140225947306880\n",
      "140225921769344\n"
     ]
    }
   ],
   "source": [
    "#元素合并\n",
    "l = [1,2]\n",
    "print(id(l))\n",
    "l = l + [4]  # 合并操作必须创建一个新的对象，把左侧的复制到列表中，然后再把右侧的复制到列表中\n",
    "l\n",
    "print(id(l))"
   ]
  },
  {
   "cell_type": "code",
   "execution_count": 5,
   "metadata": {},
   "outputs": [
    {
     "data": {
      "text/plain": [
       "[1, 2, 4, 6]"
      ]
     },
     "execution_count": 5,
     "metadata": {},
     "output_type": "execute_result"
    }
   ],
   "source": [
    "l.extend([6])  # 原处方法调用直接在一个内存块末尾添加项。\n",
    "l"
   ]
  },
  {
   "cell_type": "code",
   "execution_count": 11,
   "metadata": {},
   "outputs": [
    {
     "data": {
      "text/plain": [
       "([1, 2, 3], [1, 2, 3])"
      ]
     },
     "execution_count": 11,
     "metadata": {},
     "output_type": "execute_result"
    }
   ],
   "source": [
    "l = [1,2]\n",
    "m = l \n",
    "l.append(3)\n",
    "# l = l + [3,4]  #“+”合并，总是生成新对象\n",
    "l,m"
   ]
  },
  {
   "cell_type": "code",
   "execution_count": 12,
   "metadata": {},
   "outputs": [
    {
     "data": {
      "text/plain": [
       "([1, 2, 3, 4], [1, 2, 3, 4])"
      ]
     },
     "execution_count": 12,
     "metadata": {},
     "output_type": "execute_result"
    }
   ],
   "source": [
    "l = [1,2]\n",
    "m = l\n",
    "l += [3,4]  #“+=”对列表是做原处修改的意思\n",
    "l,m"
   ]
  }
 ],
 "metadata": {
  "kernelspec": {
   "display_name": "Python 3",
   "language": "python",
   "name": "python3"
  },
  "language_info": {
   "codemirror_mode": {
    "name": "ipython",
    "version": 3
   },
   "file_extension": ".py",
   "mimetype": "text/x-python",
   "name": "python",
   "nbconvert_exporter": "python",
   "pygments_lexer": "ipython3",
   "version": "3.8.2"
  }
 },
 "nbformat": 4,
 "nbformat_minor": 4
}
