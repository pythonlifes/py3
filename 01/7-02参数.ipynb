{
 "cells": [
  {
   "cell_type": "markdown",
   "metadata": {},
   "source": [
    "# 参数传递\n",
    "    参数的传递是通过自动将对象赋值给本地变量名来实现的\n",
    "    改变函数的可变对象参数的值也许会对调用者有影响\n",
    "    不可变参数“通过值”进行传递\n",
    "    可变对象是通过“指针”进行传递的"
   ]
  },
  {
   "cell_type": "code",
   "execution_count": 7,
   "metadata": {},
   "outputs": [
    {
     "data": {
      "text/plain": [
       "1"
      ]
     },
     "execution_count": 7,
     "metadata": {},
     "output_type": "execute_result"
    }
   ],
   "source": [
    "a = 1\n",
    "def demo(x):\n",
    "    return a\n",
    "\n",
    "demo(a)"
   ]
  },
  {
   "cell_type": "code",
   "execution_count": 21,
   "metadata": {},
   "outputs": [
    {
     "name": "stdout",
     "output_type": "stream",
     "text": [
      "1 [3, 'hahaha', 5]\n"
     ]
    }
   ],
   "source": [
    "x = 1 #不可变\n",
    "y = [3,4,5] #可变\n",
    "'''\n",
    "我们修改的是b当前所引用的对象的一部分。这种原处修改，只有在修改的对象比函数调用生命更长的时候，才会影响到调用者\n",
    "\n",
    "'''\n",
    "def demo(a,b):\n",
    "    a = 2\n",
    "    b[1] = 'hahaha'\n",
    "    \n",
    "demo(x,y)\n",
    "print(x,y)"
   ]
  },
  {
   "cell_type": "markdown",
   "metadata": {},
   "source": [
    "# 特定参数\n",
    "    在默认情况下，参数是通过其位置进行匹配的，从左至右，而且必须精确地传递和函数头部参数名一样多的参数。还能够通过定义变量名进行匹配，默认参数值，以及对于额外参数的容器"
   ]
  },
  {
   "cell_type": "code",
   "execution_count": 24,
   "metadata": {},
   "outputs": [
    {
     "name": "stdout",
     "output_type": "stream",
     "text": [
      "1 2 3 1\n"
     ]
    }
   ],
   "source": [
    "def params(x,y,z,key='1'):\n",
    "    print(x,y,z,key)\n",
    "params(1,2,3)"
   ]
  },
  {
   "cell_type": "code",
   "execution_count": 31,
   "metadata": {},
   "outputs": [
    {
     "name": "stdout",
     "output_type": "stream",
     "text": [
      "1 2 3 5\n"
     ]
    }
   ],
   "source": [
    "def params(x,y,z,key='1'):#默认值 参数只能放到最后面\n",
    "    print(x,y,z,key)\n",
    "params(1,2,3,5)"
   ]
  },
  {
   "cell_type": "code",
   "execution_count": 29,
   "metadata": {},
   "outputs": [
    {
     "name": "stdout",
     "output_type": "stream",
     "text": [
      "1 2 3 5\n"
     ]
    }
   ],
   "source": [
    "def params(x,y,z,key='1'):\n",
    "    print(x,y,z,key)\n",
    "params(key=5,x=1,y=2,z=3)"
   ]
  },
  {
   "cell_type": "code",
   "execution_count": 32,
   "metadata": {},
   "outputs": [
    {
     "ename": "SyntaxError",
     "evalue": "positional argument follows keyword argument (<ipython-input-32-c844a011e4ef>, line 3)",
     "output_type": "error",
     "traceback": [
      "\u001b[0;36m  File \u001b[0;32m\"<ipython-input-32-c844a011e4ef>\"\u001b[0;36m, line \u001b[0;32m3\u001b[0m\n\u001b[0;31m    params(key=5,1,2,3)\u001b[0m\n\u001b[0m                 ^\u001b[0m\n\u001b[0;31mSyntaxError\u001b[0m\u001b[0;31m:\u001b[0m positional argument follows keyword argument\n"
     ]
    }
   ],
   "source": [
    "def params(x,y,z,key='1'):\n",
    "    print(x,y,z,key)\n",
    "params(key=5,1,2,3)"
   ]
  },
  {
   "cell_type": "markdown",
   "metadata": {},
   "source": [
    "# *args和**kwargs\n",
    "\n",
    "    *args和**kwargs是python中的可变参数，*args表示任何多个无名参数，他是一个tuple\n",
    "    **kwargs表示关键字参数，他是一个dict.并且同时使用*args和**kwargs时，必须*args\n",
    "    参数列要在**kwargs前\n",
    "\n"
   ]
  },
  {
   "cell_type": "code",
   "execution_count": 45,
   "metadata": {},
   "outputs": [
    {
     "name": "stdout",
     "output_type": "stream",
     "text": [
      "args= (1, 2, 3, 4)\n",
      "kwargs= {}\n",
      "args= ()\n",
      "kwargs= {'a': 1, 'b': 2, 'c': 3}\n",
      "args= (1, 2, 3, 4)\n",
      "kwargs= {'a': 1, 'b': 2, 'c': 3}\n",
      "args= ('a', 1, None)\n",
      "kwargs= {'a': 1, 'b': '2', 'c': 3}\n",
      "-----\n",
      "args= (1, 3, (1, 3))\n",
      "kwargs= {'x': 1, 'y': 2}\n"
     ]
    }
   ],
   "source": [
    "def foo(*args,**kwagrs):\n",
    "    print('args=',args)\n",
    "    print('kwargs=',kwagrs)\n",
    "foo(1,2,3,4)\n",
    "foo(a=1,b=2,c=3)\n",
    "foo(1,2,3,4,a=1,b=2,c=3)\n",
    "foo('a',1,None,a=1,b='2',c=3)\n",
    "\n",
    "print('-----')\n",
    "p = {'x':1,'y':2}\n",
    "d = (1,3)\n",
    "foo(*d,d,**p)  #*解包成不同的参数,**会以键/值对的形式解包一个字典\n",
    "# foo(1,2,p)\n",
    "# foo(1,2,**p)  #dict传参注意点\n"
   ]
  },
  {
   "cell_type": "code",
   "execution_count": 46,
   "metadata": {},
   "outputs": [
    {
     "ename": "SyntaxError",
     "evalue": "invalid syntax (<ipython-input-46-c351e17ebcfb>, line 1)",
     "output_type": "error",
     "traceback": [
      "\u001b[0;36m  File \u001b[0;32m\"<ipython-input-46-c351e17ebcfb>\"\u001b[0;36m, line \u001b[0;32m1\u001b[0m\n\u001b[0;31m    def foo(**kwagrs,*args):\u001b[0m\n\u001b[0m                     ^\u001b[0m\n\u001b[0;31mSyntaxError\u001b[0m\u001b[0;31m:\u001b[0m invalid syntax\n"
     ]
    }
   ],
   "source": [
    "def foo(**kwagrs,*args):\n",
    "    print('args=',args)\n",
    "    print('kwargs=',kwagrs)\n"
   ]
  },
  {
   "cell_type": "code",
   "execution_count": 48,
   "metadata": {},
   "outputs": [
    {
     "name": "stdout",
     "output_type": "stream",
     "text": [
      "1 2 3 4\n"
     ]
    }
   ],
   "source": [
    "def func(a,b,c,d):\n",
    "    print(a,b,c,d)\n",
    "    \n",
    "z = (1,2,3,4)\n",
    "func(*z) #解包成不同的参数"
   ]
  },
  {
   "cell_type": "markdown",
   "metadata": {},
   "source": [
    "# 了解 Keyword-Only参数\n",
    "    即必须只按照关键字传递并且不会由一个位置参数来填充的参数,出现在参数列表中的*args之后。所有这些参数都必须在调用中使用关键字语法来传递。例如，在如下的代码中，a可能按照名称或位置传递，b收集任何额外的位置参数，并且c必须只按照关键字传递<否则会报异常\n"
   ]
  },
  {
   "cell_type": "code",
   "execution_count": 56,
   "metadata": {},
   "outputs": [
    {
     "name": "stdout",
     "output_type": "stream",
     "text": [
      "1 () 3\n"
     ]
    }
   ],
   "source": [
    "def kw_only(a,*b,c):\n",
    "    print(a,b,c)\n",
    "# kw_only(1,2,3)\n",
    "#kw_only(1,2,c=3)\n",
    "kw_only(a=1,c=3)"
   ]
  },
  {
   "cell_type": "markdown",
   "metadata": {},
   "source": [
    "    参数列表中使用一个*字符，来表示一个函数不会接受一个变量长度的参数列表\n",
    "\n"
   ]
  },
  {
   "cell_type": "code",
   "execution_count": 61,
   "metadata": {},
   "outputs": [
    {
     "name": "stdout",
     "output_type": "stream",
     "text": [
      "1 2 3\n",
      "1 2 3\n"
     ]
    },
    {
     "ename": "TypeError",
     "evalue": "kw_only() takes 1 positional argument but 3 were given",
     "output_type": "error",
     "traceback": [
      "\u001b[0;31m---------------------------------------------------------------------------\u001b[0m",
      "\u001b[0;31mTypeError\u001b[0m                                 Traceback (most recent call last)",
      "\u001b[0;32m<ipython-input-61-8511458fd71e>\u001b[0m in \u001b[0;36m<module>\u001b[0;34m\u001b[0m\n\u001b[1;32m      4\u001b[0m \u001b[0mkw_only\u001b[0m\u001b[0;34m(\u001b[0m\u001b[0;36m1\u001b[0m\u001b[0;34m,\u001b[0m\u001b[0mc\u001b[0m\u001b[0;34m=\u001b[0m\u001b[0;36m3\u001b[0m\u001b[0;34m,\u001b[0m\u001b[0mb\u001b[0m\u001b[0;34m=\u001b[0m\u001b[0;36m2\u001b[0m\u001b[0;34m)\u001b[0m\u001b[0;34m\u001b[0m\u001b[0;34m\u001b[0m\u001b[0m\n\u001b[1;32m      5\u001b[0m \u001b[0mkw_only\u001b[0m\u001b[0;34m(\u001b[0m\u001b[0mc\u001b[0m\u001b[0;34m=\u001b[0m\u001b[0;36m3\u001b[0m\u001b[0;34m,\u001b[0m\u001b[0mb\u001b[0m\u001b[0;34m=\u001b[0m\u001b[0;36m2\u001b[0m\u001b[0;34m,\u001b[0m\u001b[0ma\u001b[0m\u001b[0;34m=\u001b[0m\u001b[0;36m1\u001b[0m\u001b[0;34m)\u001b[0m\u001b[0;34m\u001b[0m\u001b[0;34m\u001b[0m\u001b[0m\n\u001b[0;32m----> 6\u001b[0;31m \u001b[0mkw_only\u001b[0m\u001b[0;34m(\u001b[0m\u001b[0;36m1\u001b[0m\u001b[0;34m,\u001b[0m\u001b[0;36m2\u001b[0m\u001b[0;34m,\u001b[0m\u001b[0;36m3\u001b[0m\u001b[0;34m)\u001b[0m\u001b[0;34m\u001b[0m\u001b[0;34m\u001b[0m\u001b[0m\n\u001b[0m",
      "\u001b[0;31mTypeError\u001b[0m: kw_only() takes 1 positional argument but 3 were given"
     ]
    }
   ],
   "source": [
    "#a可能再次按照位置或名称传递，但b和c必须按照关键字传递，不允许其他额外的位置传递\n",
    "def kw_only(a,*,b,c):\n",
    "    print(a,b,c)\n",
    "kw_only(1,c=3,b=2)\n",
    "kw_only(c=3,b=2,a=1)\n",
    "kw_only(1,2,3)"
   ]
  },
  {
   "cell_type": "markdown",
   "metadata": {},
   "source": [
    "    \n",
    "    keyword-only参数必须在一个单个星号后面指定，而不是两个星号——命名的参数不能出现在**args任意关键字形式的后面，并且一个**不能独自出现在参数列表中。这两种做法都将产生语法错误"
   ]
  },
  {
   "cell_type": "code",
   "execution_count": 64,
   "metadata": {},
   "outputs": [],
   "source": [
    "#这种不属于kw(keyword-only参数必须编写在**args任意关键字形式之前)\n",
    "def kw_only(a,**kw):\n",
    "    print(a,kw)"
   ]
  },
  {
   "cell_type": "code",
   "execution_count": 65,
   "metadata": {},
   "outputs": [
    {
     "ename": "SyntaxError",
     "evalue": "invalid syntax (<ipython-input-65-e332aff748f7>, line 1)",
     "output_type": "error",
     "traceback": [
      "\u001b[0;36m  File \u001b[0;32m\"<ipython-input-65-e332aff748f7>\"\u001b[0;36m, line \u001b[0;32m1\u001b[0m\n\u001b[0;31m    def kw_only(a,**kw,c):\u001b[0m\n\u001b[0m                       ^\u001b[0m\n\u001b[0;31mSyntaxError\u001b[0m\u001b[0;31m:\u001b[0m invalid syntax\n"
     ]
    }
   ],
   "source": [
    "def kw_only(a,**kw,c):\n",
    "    print(a,kw)"
   ]
  },
  {
   "cell_type": "markdown",
   "metadata": {},
   "source": [
    "# 参数返回\n",
    "    如果参数是一个，返回的是一个元素对象\n",
    "    如果大于2个，返回的是一个元祖对象"
   ]
  },
  {
   "cell_type": "code",
   "execution_count": 18,
   "metadata": {},
   "outputs": [
    {
     "data": {
      "text/plain": [
       "2"
      ]
     },
     "execution_count": 18,
     "metadata": {},
     "output_type": "execute_result"
    }
   ],
   "source": [
    "def one(x):\n",
    "    return x+1\n",
    "one(1)"
   ]
  },
  {
   "cell_type": "code",
   "execution_count": 20,
   "metadata": {},
   "outputs": [
    {
     "data": {
      "text/plain": [
       "(3, 5)"
      ]
     },
     "execution_count": 20,
     "metadata": {},
     "output_type": "execute_result"
    }
   ],
   "source": [
    "def two(x):\n",
    "    return x+1,x+3\n",
    "two(2)"
   ]
  }
 ],
 "metadata": {
  "kernelspec": {
   "display_name": "Python 3",
   "language": "python",
   "name": "python3"
  },
  "language_info": {
   "codemirror_mode": {
    "name": "ipython",
    "version": 3
   },
   "file_extension": ".py",
   "mimetype": "text/x-python",
   "name": "python",
   "nbconvert_exporter": "python",
   "pygments_lexer": "ipython3",
   "version": "3.8.2"
  }
 },
 "nbformat": 4,
 "nbformat_minor": 4
}
