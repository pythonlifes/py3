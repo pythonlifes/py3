{
 "cells": [
  {
   "cell_type": "markdown",
   "metadata": {},
   "source": [
    "# oop\n",
    "    面向对象程序设计\n",
    "# 类\n",
    "    具有相同特征（变量）以及技能功能（函数）的对象全体的集合,类的设计是为了创建和管理新的对象，并且它们也支持继承。这是一种代码定制和复用的机制\n",
    "       \n",
    "# 实例\n",
    "    是一个一个具体的对象，各个实例拥有的数据都互相独立，互不影响\n",
    "    类是产生实例的工厂\n",
    "# 类的编写\n",
    "    \n",
    "    class语句会生成一个新的类对象\n",
    "    \n",
    "    def会在类中对变量名进行赋值，实际效果就是把属性添加在了类对象之中，从而可以由所有实例和子类继承"
   ]
  },
  {
   "cell_type": "code",
   "execution_count": 8,
   "metadata": {},
   "outputs": [
    {
     "name": "stdout",
     "output_type": "stream",
     "text": [
      "A\n",
      "xiaohan\n"
     ]
    }
   ],
   "source": [
    "class A(object):\n",
    "    print('A')\n",
    "    \n",
    "    def set_name(self,name):\n",
    "        self.name = name\n",
    "class B(A):\n",
    "    pass\n",
    "\n",
    "B()\n",
    "a = A()\n",
    "# print(a.name)  #会产生未定义变量名的错误\n",
    "a.set_name('xiaohan')\n",
    "print(a.name)"
   ]
  },
  {
   "cell_type": "code",
   "execution_count": 18,
   "metadata": {},
   "outputs": [
    {
     "name": "stdout",
     "output_type": "stream",
     "text": [
      "xiaohan\n"
     ]
    }
   ],
   "source": [
    "class A(object):\n",
    "    def __init__(self,name):\n",
    "        self.name = name\n",
    "\n",
    "\n",
    "a = A('xiaohan')\n",
    "print(a.name)  #会产生未定义变量名的错误\n"
   ]
  },
  {
   "cell_type": "markdown",
   "metadata": {},
   "source": [
    "    附加在实例上的属性只属于那些实例，但附加在类上的属性则由所有子类及其实例共享\n",
    "    类函数为实例提供行为特性    \n",
    "    就像简单变量一样，类和实例属性并没有事先声明，而是在首次赋值时它的值才会存在。当方法对self属性进行赋值时，会创建或修改类树底端实例（也就是其中一个矩形）内的属性，因为self自动引用正在处理的实例。"
   ]
  },
  {
   "cell_type": "code",
   "execution_count": 23,
   "metadata": {},
   "outputs": [
    {
     "name": "stdout",
     "output_type": "stream",
     "text": [
      "动物开始运动\n",
      "狗在吃骨头\n",
      "hahah\n"
     ]
    }
   ],
   "source": [
    "class Animal(object):\n",
    "\n",
    "    def __init__(self):\n",
    "        print('动物开始运动')\n",
    "\n",
    "    def eat(self):\n",
    "        print('动物再吃食物')\n",
    "\n",
    "    def run(self):\n",
    "        print('动物在跑路')\n",
    "\n",
    "\n",
    "class Dog(Animal):\n",
    "    # def __init__(self):\n",
    "    #     pass\n",
    "\n",
    "    def eat(self):\n",
    "        print('狗在吃骨头')\n",
    "\n",
    "    def run(self,msg):  # 违反了LSP原则（在使用父类的场景，替换为子类也一样可行） #应该和父类(subclass)参数保持一致\n",
    "        print(msg)\n",
    "\n",
    "    def run(cls,msg):  # **cls\n",
    "        print(msg)\n",
    "dog = Dog()\n",
    "dog.eat()\n",
    "dog.run('hahah')\n"
   ]
  },
  {
   "cell_type": "markdown",
   "metadata": {},
   "source": [
    "# 类对象和实例对象\n",
    "    python的OOP模型中两种对象:\n",
    "        类对象:提供默认行为,是实例对象的工厂(工厂就是生产东西的地方)\n",
    "        实例对象:是程序处理的实际对象,各自都有独立的命名空间"
   ]
  }
 ],
 "metadata": {
  "kernelspec": {
   "display_name": "Python 3",
   "language": "python",
   "name": "python3"
  },
  "language_info": {
   "codemirror_mode": {
    "name": "ipython",
    "version": 3
   },
   "file_extension": ".py",
   "mimetype": "text/x-python",
   "name": "python",
   "nbconvert_exporter": "python",
   "pygments_lexer": "ipython3",
   "version": "3.8.2"
  }
 },
 "nbformat": 4,
 "nbformat_minor": 4
}
