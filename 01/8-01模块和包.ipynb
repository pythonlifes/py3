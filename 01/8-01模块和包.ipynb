{
 "cells": [
  {
   "cell_type": "markdown",
   "metadata": {},
   "source": [
    "# 模块\n",
    "    模块是一个包含所有你定义的函数和变量的文件，其后缀名是.py。模块可以被别的程序引入，以使用该模块中的函数等功能。\n",
    "    import :导入一个模块整体\n",
    "    import xxx from xxx 导入特定的部分到当前命名空间\n",
    "    import xxx from xxx as xx  重命名\n",
    "    \n",
    "    为什么使用模块:\n",
    "        方便将函数和变量归类到一个命名空间\n",
    "        代码重用\n",
    "     \n",
    "    程序划分:\n",
    "        很多文件 一个函数入口,在python中这些文件称作模块\n",
    "        \n",
    "        "
   ]
  },
  {
   "cell_type": "code",
   "execution_count": 2,
   "metadata": {},
   "outputs": [],
   "source": [
    "# m1.py\n",
    "def m1(s):\n",
    "    print(s,'m1')"
   ]
  },
  {
   "cell_type": "code",
   "execution_count": 4,
   "metadata": {},
   "outputs": [
    {
     "ename": "ModuleNotFoundError",
     "evalue": "No module named 'm1'",
     "output_type": "error",
     "traceback": [
      "\u001b[0;31m---------------------------------------------------------------------------\u001b[0m",
      "\u001b[0;31mModuleNotFoundError\u001b[0m                       Traceback (most recent call last)",
      "\u001b[0;32m<ipython-input-4-1a03f8d29b6c>\u001b[0m in \u001b[0;36m<module>\u001b[0;34m\u001b[0m\n\u001b[1;32m      1\u001b[0m \u001b[0;31m# m2.py\u001b[0m\u001b[0;34m\u001b[0m\u001b[0;34m\u001b[0m\u001b[0;34m\u001b[0m\u001b[0m\n\u001b[0;32m----> 2\u001b[0;31m \u001b[0;32mimport\u001b[0m \u001b[0mm1\u001b[0m  \u001b[0;31m#导入m1这个包\u001b[0m\u001b[0;34m\u001b[0m\u001b[0;34m\u001b[0m\u001b[0m\n\u001b[0m\u001b[1;32m      3\u001b[0m \u001b[0mm1\u001b[0m\u001b[0;34m.\u001b[0m\u001b[0mm1\u001b[0m\u001b[0;34m(\u001b[0m\u001b[0;34m'1'\u001b[0m\u001b[0;34m)\u001b[0m\u001b[0;34m\u001b[0m\u001b[0;34m\u001b[0m\u001b[0m\n",
      "\u001b[0;31mModuleNotFoundError\u001b[0m: No module named 'm1'"
     ]
    }
   ],
   "source": [
    "# m2.py\n",
    "import m1  #导入m1这个包\n",
    "m1.m1('1')  "
   ]
  },
  {
   "cell_type": "code",
   "execution_count": 5,
   "metadata": {},
   "outputs": [
    {
     "data": {
      "text/plain": [
       "'\\n    导包过程:\\n        首先import语句在文件的最开始,这样就给当前要引入包的文件提供了访问被引用包中所有对象的访问权限\\n        y也就是说,加载引入了文件,就能够获取被加载文件中的对象的的所有属性(引用对象的所有属性)\\n'"
      ]
     },
     "execution_count": 5,
     "metadata": {},
     "output_type": "execute_result"
    }
   ],
   "source": [
    "'''\n",
    "    导包过程:\n",
    "        首先import语句在文件的最开始,这样就给当前要引入包的文件提供了访问被引用包中所有对象的访问权限\n",
    "        y也就是说,加载引入了文件,就能够获取被加载文件中的对象的的所有属性(引用对象的所有属性)\n",
    "        \n",
    "        程序第一次导包的时候，先搜索模块,然后编译成字节码，在执行模块代码\n",
    "            导入相同的模块的时候，只会在内存中查找已加载的模块对象\n",
    "            sys.modules中表中去查找，如果不存在会执行上面的导包过程\n",
    "            如果模块文件发生变化,对比时间戳,会生成新的字节码文件\n",
    "            \n",
    "            import操作的最后步骤是执行模块的字节码\n",
    "'''"
   ]
  },
  {
   "cell_type": "markdown",
   "metadata": {},
   "source": [
    "    object.attribute这类表示法\n",
    "        多数对象都有一些可用的属性，可以通过“.”运算符取出。有些是可调用的对象。例如，函数，而其他的则是简单数据数值，给予对象特定的属性"
   ]
  },
  {
   "cell_type": "code",
   "execution_count": 1,
   "metadata": {},
   "outputs": [
    {
     "data": {
      "text/plain": [
       "1"
      ]
     },
     "execution_count": 1,
     "metadata": {},
     "output_type": "execute_result"
    }
   ],
   "source": [
    "class A(object):\n",
    "    def __init__(self,name):\n",
    "        self.name = name\n",
    "a = A(1)\n",
    "a.name"
   ]
  },
  {
   "cell_type": "markdown",
   "metadata": {},
   "source": [
    "    推荐使用import  xxxx 或者 from  xx import as \n",
    "     from  xx import A，假如当前模块中正好有A，这时候会覆盖原来的，影响作用域等"
   ]
  },
  {
   "cell_type": "markdown",
   "metadata": {},
   "source": [
    "# 包\n",
    "    Python代码的目录就称为包\n",
    "    import dir1.dir2.xxx\n",
    "    \n",
    "    如果选择使用包导入，就必须多遵循一条约束：包导入语句的路径中的每个目录内都必须有__init__.py这个文件，否则导入包会失败。\n",
    "    导入的目录必须是在python模块搜索路径中\n",
    "    \n",
    "    对于包中的导入，Python 3.0引入了两个变化：\n",
    "        •它修改了模块导入搜索路径语义，以默认地跳过包自己的目录。导入只是检查搜索路径的其他组件。这叫做“绝对”导入。\n",
    "        •它扩展了from语句的语法，以允许显式地要求导入只搜索包的目录。这叫做“相对”导入语法。\n",
    "    \n",
    "    sys.path"
   ]
  },
  {
   "cell_type": "markdown",
   "metadata": {},
   "source": [
    "# __init__.py"
   ]
  },
  {
   "cell_type": "markdown",
   "metadata": {},
   "source": [
    "# __name__\n",
    "    \n",
    "    \n",
    "    在python中没有类似public,private等关键字来修饰变量,可以通过如下方式\n",
    "        _xxx:\"单下划线 \" 开始的成员变量叫做保护变量，意思是只有类实例和子类实例能访问到这些变量，需通过类提供的接口进行访问；不能用'from module import *'导入,作用是防止客户端通过from *语句导入模块的时候,把变量名复制出去,也可以在模块顶层把变量名的字符串列表赋值给变量__all__，以达到类似于_X命名惯例的隐藏效果。__all__列表只对from *语句这种形式有效，它并不是私有声明\n",
    "        \n",
    "        \n",
    "        \n",
    "\n",
    "      __xxx:类中的私有变量/方法名 （Python的函数也是对象，所以成员方法称为成员变量也行得通。）,\" 双下划线 \" 开始的是私有成员，意思是只有类对象自己能访问，连子类对象也不能访问到这个数据。\n",
    "\n",
    "      __xxx__:系统定义名字，前后均有一个“双下划线” 代表python里特殊方法专用的标识，如 __init__（）代表类的构造函数。\n",
    "\n",
    "     "
   ]
  },
  {
   "cell_type": "code",
   "execution_count": 2,
   "metadata": {},
   "outputs": [],
   "source": [
    "#a.py\n",
    "__all__ = ['x', 'y']  #__all__里面放置要复制的变量名，_xxx:是指出不被复制的变量名,Python会先寻找模块内的__all__列表；如果没有定义的话，from *就会复制出开头没有单下划线的所有变量名\n",
    "x = 1\n",
    "y = 2\n",
    "z = {'x': 1}\n",
    "\n",
    "\n",
    "def demo():\n",
    "    print(z)\n",
    "\n",
    "\n",
    "#b.py\n",
    "from wealth.a import *  #绝对导入\n",
    "#from wealth.a import x,z #不起作用\n",
    "\n",
    "print(x)\n",
    "print(z)\n"
   ]
  }
 ],
 "metadata": {
  "kernelspec": {
   "display_name": "Python 3",
   "language": "python",
   "name": "python3"
  },
  "language_info": {
   "codemirror_mode": {
    "name": "ipython",
    "version": 3
   },
   "file_extension": ".py",
   "mimetype": "text/x-python",
   "name": "python",
   "nbconvert_exporter": "python",
   "pygments_lexer": "ipython3",
   "version": "3.8.2"
  }
 },
 "nbformat": 4,
 "nbformat_minor": 4
}
