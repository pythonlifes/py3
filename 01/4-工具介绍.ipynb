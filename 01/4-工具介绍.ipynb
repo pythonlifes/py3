{
 "cells": [
  {
   "cell_type": "markdown",
   "metadata": {},
   "source": [
    "# Ipython介绍\n",
    "    I代表interactive(交互)\n",
    "    1.一个强大的python交互式shell \n",
    "    2.供Jupyter notebooks使用的一个Jupyter内核（IPython notebook）\n",
    "    \n",
    "    特点:\n",
    "        1.运行ipython控制台 \n",
    "        2.使用ipython作为系统shell \n",
    "        3.使用历史输入(history) \n",
    "        4.Tab补全 \n",
    "        5.使用%run命令运行脚本 \n",
    "        6.使用%timeit命令快速测量时间 \n",
    "        7.使用%pdb命令快速debug"
   ]
  },
  {
   "cell_type": "code",
   "execution_count": 2,
   "metadata": {},
   "outputs": [
    {
     "name": "stdout",
     "output_type": "stream",
     "text": [
      " \u001b[0m\u001b[01;32m1-python介绍.ipynb\u001b[0m*                   \u001b[34;42m__pycache__\u001b[0m/\r\n",
      " \u001b[01;32m2-第一个python程序.ipynb\u001b[0m*             \u001b[01;32ma.py\u001b[0m*\r\n",
      " \u001b[01;32m3-工具介绍.ipynb\u001b[0m*                     \u001b[01;32mb.py\u001b[0m*\r\n",
      "\u001b[01;32m'Untitled - Jupyter Notebook.html'\u001b[0m*    \u001b[01;32mpython龟叔.jpg\u001b[0m*\r\n",
      "\u001b[34;42m'Untitled - Jupyter Notebook_files'\u001b[0m/\r\n"
     ]
    }
   ],
   "source": [
    "ls"
   ]
  },
  {
   "cell_type": "markdown",
   "metadata": {},
   "source": [
    "# pycharm的介绍\n",
    "       集成开发环境\n",
    "       代码高亮,自动补全,debug等方便"
   ]
  }
 ],
 "metadata": {
  "kernelspec": {
   "display_name": "Python 3",
   "language": "python",
   "name": "python3"
  },
  "language_info": {
   "codemirror_mode": {
    "name": "ipython",
    "version": 3
   },
   "file_extension": ".py",
   "mimetype": "text/x-python",
   "name": "python",
   "nbconvert_exporter": "python",
   "pygments_lexer": "ipython3",
   "version": "3.8.2"
  }
 },
 "nbformat": 4,
 "nbformat_minor": 4
}
