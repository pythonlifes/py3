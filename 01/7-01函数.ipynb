{
 "cells": [
  {
   "cell_type": "markdown",
   "metadata": {},
   "source": [
    "# 函数\n",
    "    在python中属于一等公民\n",
    "    函数是一个通用的程序结构,任务分割成小块,\n",
    "    作用:\n",
    "        最大化的代码重用和最小化代码冗余"
   ]
  },
  {
   "cell_type": "markdown",
   "metadata": {},
   "source": [
    "# 函数的定义：\n",
    "    def xxx(*args,**kw):\n",
    "    \n",
    "    def创建了一个对象并将其赋值给某一变量名\n",
    "    当Python运行到def语句时，它将会生成一个新的函数对象并将其赋值给这个函数名。就像所有的赋值一样，函数名变成了某一个函数的引用"
   ]
  },
  {
   "cell_type": "markdown",
   "metadata": {},
   "source": [
    "# 函数的构成\n",
    "    def xxx(params):   \n",
    "        #代码块     #必须缩进  代码块就成为了函数的主体\n",
    "        return / notreturn  #return将一个结果对象发送给调用者 表示函数调用结束,函数执行结束返回执行结果,从技术角度来讲，一个没有返回值的函数自动返回了none对象，但是这个值是往往被忽略掉的。\n",
    "        \n",
    "    params:形式参数\n",
    "        可以传递任意类型的参数给函数，函数也可以返回任意类型的对象。其结果就是，函数常常可以用在很多类型的对象身上，任意支持兼容接口（方法和表达式）的对象都能使用，无论它们是什么类型\n",
    "        \n",
    "    ***函数仅仅是对象，在程序执行时它清楚地记录在了内存之中。实际上，除了调用以外，函数允许任意的属性附加到记录信息以供随后使用：\n"
   ]
  },
  {
   "cell_type": "markdown",
   "metadata": {},
   "source": [
    "# 函数的调用\n",
    "    在def运行之后，可以在程序中通过在函数名后增加括号调用（运行）这个函数。括号中可以包含一个或多个对象参数，这些参数将会传递（赋值）给函数头部的参数名。"
   ]
  },
  {
   "cell_type": "code",
   "execution_count": 4,
   "metadata": {},
   "outputs": [
    {
     "data": {
      "text/plain": [
       "3"
      ]
     },
     "execution_count": 4,
     "metadata": {},
     "output_type": "execute_result"
    }
   ],
   "source": [
    "def test(a,b):\n",
    "    return a +b\n",
    "test(1,2)"
   ]
  },
  {
   "cell_type": "markdown",
   "metadata": {},
   "source": [
    "# 作用域\n",
    "    有了变量，变量需要赋值，就会产生作用域问题\n",
    "    \n",
    "    当你在一个程序中使用变量名时，Python创建、改变或查找变量名都是在所谓的命名空间（一个保存变量名的地方）中进行的。当我们谈论到搜索变量名对应于代码的值的时候，作用域这个术语指的就是命名空间。也就是说，在代码中变量名被赋值的位置决定了这个变量名能被访问到的范围。\n",
    "    \n",
    "    Python中的变量名在第一次赋值时已经创建,在任何情况下，一个变量的作用域（它所使用的地方）总是由在代码中被赋值的地方所决定，并且与函数调用完全没有关系"
   ]
  },
  {
   "cell_type": "code",
   "execution_count": null,
   "metadata": {},
   "outputs": [],
   "source": [
    "'''\n",
    "    作用域这个术语指的就是命名空间。\n",
    "        命名空间:命名空间就是一个容器，其中包含的是映射到不同对象的名称，描述为一个Python字典结构，其中关键词代表名称，而字典值是对象本身\n",
    "        在不同的代码逻辑中,命名空间不一样,因此会产生很多命名空间,命名空间也有不同的层次（也就是所谓的“作用域”）\n",
    "        \n",
    "        lambda是嵌套函数作用域查找（我们在第17章见到的LEGB原则中的E）的最大受益者。\n",
    "        lambda出现在def中（很典型的情况），并且在上层函数调用的时候，嵌套的lambda能够获取到在上层函数作用域中的变量名x的值\n",
    "        def action(x):\n",
    "            return (lambda y :x +y)\n",
    "            \n",
    "'''\n"
   ]
  },
  {
   "cell_type": "code",
   "execution_count": 9,
   "metadata": {},
   "outputs": [
    {
     "name": "stdout",
     "output_type": "stream",
     "text": [
      "{'x': 88}\n"
     ]
    }
   ],
   "source": [
    "x = 10  #全局变量\n",
    "def demo():\n",
    "    x = 88  #本地变量\n",
    "    print(locals())\n",
    "    \n",
    "demo()"
   ]
  },
  {
   "cell_type": "markdown",
   "metadata": {},
   "source": [
    "    全局指的是在一个文件的顶层的变量名仅对于这个文件内部的代码而言是全局的。在Python中是没有基于一个单个的、无所不包的情景文件的全局作用域的。替代这种方法的是，变量名由模块文件隔开，并且必须精确地导入一个模块文件才能够使用这个文件中定义的变量名。当你在Python中听到“全局的”，你就应该想到“模块”。\n",
    "    每次对函数的调用都创建了一个新的本地作用域"
   ]
  },
  {
   "cell_type": "markdown",
   "metadata": {},
   "source": [
    "    LEGB原则\n",
    "        L-Local(function)；函数内的名字空间\n",
    "        E-Enclosing function locals；外部嵌套函数的名字空间(例如closure)\n",
    "        G-Global(module)；函数定义所在模块（文件）的名字空间\n",
    "        B-Builtin(Python)；Python内置模块的名字空间\n",
    "        \n",
    "        表示的是Local -> Enclosed -> Global -> Built-in，其中的箭头方向表示的是搜索顺序。\n",
    "\n",
    "        Local 可能是在一个函数或者类方法内部。\n",
    "        Enclosed 可能是嵌套函数内，比如说 一个函数包裹在另一个函数内部。\n",
    "        Global 代表的是执行脚本自身的最高层次。\n",
    "        Built-in 是Python为自身保留的特殊名称。"
   ]
  },
  {
   "cell_type": "code",
   "execution_count": 12,
   "metadata": {},
   "outputs": [
    {
     "name": "stdout",
     "output_type": "stream",
     "text": [
      "locals {'x': 1}\n",
      "globals {'__name__': '__main__', '__doc__': 'Automatically created module for IPython interactive environment', '__package__': None, '__loader__': None, '__spec__': None, '__builtin__': <module 'builtins' (built-in)>, '__builtins__': <module 'builtins' (built-in)>, '_ih': ['', 'def test(a,b):\\n    return a +b', 'def test(a,b):\\n    return a +b\\ntest(1,2)', 'def test(a,b):\\n    return a +b\\ntest(1,2)', 'def test(a,b):\\n    return a +b\\ntest(1,2)', 'x = 10  #全局变量\\ndef demo():\\n    x = 88  #本地变量\\n    ', 'x = 10  #全局变量\\ndef demo():\\n    x = 88  #本地变量\\n    print(locals())\\n    ', 'x = 10  #全局变量\\ndef demo():\\n    x = 88  #本地变量\\n    print(locals())\\n    ', 'x = 10  #全局变量\\ndef demo():\\n    x = 88  #本地变量\\n    print(locals())\\n    ', 'x = 10  #全局变量\\ndef demo():\\n    x = 88  #本地变量\\n    print(locals())\\n    \\ndemo()', \"count = 1\\ndef func():\\n    x = 1\\n    print('locals,'locals())\\nfunc()\\nprint('globals',globals())\", \"count = 1\\ndef func():\\n    x = 1\\n    print('locals',locals())\\nfunc()\\nprint('globals',globals())\", \"count = 1\\ndef func():\\n    x = 1\\n    print('locals',locals())\\nfunc()\\nprint('globals',globals())\"], '_oh': {2: 3, 3: 3, 4: 3}, '_dh': ['/root/course/py3/01'], 'In': ['', 'def test(a,b):\\n    return a +b', 'def test(a,b):\\n    return a +b\\ntest(1,2)', 'def test(a,b):\\n    return a +b\\ntest(1,2)', 'def test(a,b):\\n    return a +b\\ntest(1,2)', 'x = 10  #全局变量\\ndef demo():\\n    x = 88  #本地变量\\n    ', 'x = 10  #全局变量\\ndef demo():\\n    x = 88  #本地变量\\n    print(locals())\\n    ', 'x = 10  #全局变量\\ndef demo():\\n    x = 88  #本地变量\\n    print(locals())\\n    ', 'x = 10  #全局变量\\ndef demo():\\n    x = 88  #本地变量\\n    print(locals())\\n    ', 'x = 10  #全局变量\\ndef demo():\\n    x = 88  #本地变量\\n    print(locals())\\n    \\ndemo()', \"count = 1\\ndef func():\\n    x = 1\\n    print('locals,'locals())\\nfunc()\\nprint('globals',globals())\", \"count = 1\\ndef func():\\n    x = 1\\n    print('locals',locals())\\nfunc()\\nprint('globals',globals())\", \"count = 1\\ndef func():\\n    x = 1\\n    print('locals',locals())\\nfunc()\\nprint('globals',globals())\"], 'Out': {2: 3, 3: 3, 4: 3}, 'get_ipython': <bound method InteractiveShell.get_ipython of <ipykernel.zmqshell.ZMQInteractiveShell object at 0x7f18d79b04c0>>, 'exit': <IPython.core.autocall.ZMQExitAutocall object at 0x7f18d6985eb0>, 'quit': <IPython.core.autocall.ZMQExitAutocall object at 0x7f18d6985eb0>, '_': 3, '__': 3, '___': 3, '_i': \"count = 1\\ndef func():\\n    x = 1\\n    print('locals',locals())\\nfunc()\\nprint('globals',globals())\", '_ii': \"count = 1\\ndef func():\\n    x = 1\\n    print('locals,'locals())\\nfunc()\\nprint('globals',globals())\", '_iii': 'x = 10  #全局变量\\ndef demo():\\n    x = 88  #本地变量\\n    print(locals())\\n    \\ndemo()', '_i1': 'def test(a,b):\\n    return a +b', 'test': <function test at 0x7f18d4100040>, '_i2': 'def test(a,b):\\n    return a +b\\ntest(1,2)', '_2': 3, '_i3': 'def test(a,b):\\n    return a +b\\ntest(1,2)', '_3': 3, '_i4': 'def test(a,b):\\n    return a +b\\ntest(1,2)', '_4': 3, '_i5': 'x = 10  #全局变量\\ndef demo():\\n    x = 88  #本地变量\\n    ', 'x': 10, 'demo': <function demo at 0x7f18bdbe2f70>, '_i6': 'x = 10  #全局变量\\ndef demo():\\n    x = 88  #本地变量\\n    print(locals())\\n    ', '_i7': 'x = 10  #全局变量\\ndef demo():\\n    x = 88  #本地变量\\n    print(locals())\\n    ', '_i8': 'x = 10  #全局变量\\ndef demo():\\n    x = 88  #本地变量\\n    print(locals())\\n    ', '_i9': 'x = 10  #全局变量\\ndef demo():\\n    x = 88  #本地变量\\n    print(locals())\\n    \\ndemo()', '_i10': \"count = 1\\ndef func():\\n    x = 1\\n    print('locals,'locals())\\nfunc()\\nprint('globals',globals())\", '_i11': \"count = 1\\ndef func():\\n    x = 1\\n    print('locals',locals())\\nfunc()\\nprint('globals',globals())\", 'count': 1, 'func': <function func at 0x7f18bded4280>, '_i12': \"count = 1\\ndef func():\\n    x = 1\\n    print('locals',locals())\\nfunc()\\nprint('globals',globals())\"}\n"
     ]
    }
   ],
   "source": [
    "count = 1\n",
    "def func():\n",
    "    x = 1\n",
    "    print('locals',locals())\n",
    "func()\n",
    "print('globals',globals())"
   ]
  },
  {
   "cell_type": "code",
   "execution_count": 16,
   "metadata": {},
   "outputs": [
    {
     "name": "stdout",
     "output_type": "stream",
     "text": [
      "x fun int\n",
      "x func out\n"
     ]
    }
   ],
   "source": [
    "a = 'x'\n",
    "\n",
    "def func():\n",
    "    print(a,'fun int')\n",
    "func()\n",
    "print(a,'func out')"
   ]
  },
  {
   "cell_type": "code",
   "execution_count": 18,
   "metadata": {},
   "outputs": [
    {
     "name": "stdout",
     "output_type": "stream",
     "text": [
      "y fun int\n",
      "x func out\n"
     ]
    }
   ],
   "source": [
    "a = 'x'\n",
    "\n",
    "def func():\n",
    "    a = 'y'\n",
    "    print(a,'fun int')\n",
    "func()\n",
    "print(a,'func out')"
   ]
  },
  {
   "cell_type": "code",
   "execution_count": 20,
   "metadata": {},
   "outputs": [
    {
     "ename": "UnboundLocalError",
     "evalue": "local variable 'a' referenced before assignment",
     "output_type": "error",
     "traceback": [
      "\u001b[0;31m---------------------------------------------------------------------------\u001b[0m",
      "\u001b[0;31mUnboundLocalError\u001b[0m                         Traceback (most recent call last)",
      "\u001b[0;32m<ipython-input-20-37a43deef403>\u001b[0m in \u001b[0;36m<module>\u001b[0;34m\u001b[0m\n\u001b[1;32m      4\u001b[0m     \u001b[0ma\u001b[0m \u001b[0;34m+=\u001b[0m \u001b[0;34m'1'\u001b[0m\u001b[0;34m\u001b[0m\u001b[0;34m\u001b[0m\u001b[0m\n\u001b[1;32m      5\u001b[0m     \u001b[0mprint\u001b[0m\u001b[0;34m(\u001b[0m\u001b[0ma\u001b[0m\u001b[0;34m,\u001b[0m\u001b[0;34m'fun int'\u001b[0m\u001b[0;34m)\u001b[0m\u001b[0;34m\u001b[0m\u001b[0;34m\u001b[0m\u001b[0m\n\u001b[0;32m----> 6\u001b[0;31m \u001b[0mfunc\u001b[0m\u001b[0;34m(\u001b[0m\u001b[0;34m)\u001b[0m\u001b[0;34m\u001b[0m\u001b[0;34m\u001b[0m\u001b[0m\n\u001b[0m\u001b[1;32m      7\u001b[0m \u001b[0mprint\u001b[0m\u001b[0;34m(\u001b[0m\u001b[0ma\u001b[0m\u001b[0;34m,\u001b[0m\u001b[0;34m'func out'\u001b[0m\u001b[0;34m)\u001b[0m\u001b[0;34m\u001b[0m\u001b[0;34m\u001b[0m\u001b[0m\n",
      "\u001b[0;32m<ipython-input-20-37a43deef403>\u001b[0m in \u001b[0;36mfunc\u001b[0;34m()\u001b[0m\n\u001b[1;32m      2\u001b[0m \u001b[0;34m\u001b[0m\u001b[0m\n\u001b[1;32m      3\u001b[0m \u001b[0;32mdef\u001b[0m \u001b[0mfunc\u001b[0m\u001b[0;34m(\u001b[0m\u001b[0;34m)\u001b[0m\u001b[0;34m:\u001b[0m\u001b[0;34m\u001b[0m\u001b[0;34m\u001b[0m\u001b[0m\n\u001b[0;32m----> 4\u001b[0;31m     \u001b[0ma\u001b[0m \u001b[0;34m+=\u001b[0m \u001b[0;34m'1'\u001b[0m\u001b[0;34m\u001b[0m\u001b[0;34m\u001b[0m\u001b[0m\n\u001b[0m\u001b[1;32m      5\u001b[0m     \u001b[0mprint\u001b[0m\u001b[0;34m(\u001b[0m\u001b[0ma\u001b[0m\u001b[0;34m,\u001b[0m\u001b[0;34m'fun int'\u001b[0m\u001b[0;34m)\u001b[0m\u001b[0;34m\u001b[0m\u001b[0;34m\u001b[0m\u001b[0m\n\u001b[1;32m      6\u001b[0m \u001b[0mfunc\u001b[0m\u001b[0;34m(\u001b[0m\u001b[0;34m)\u001b[0m\u001b[0;34m\u001b[0m\u001b[0;34m\u001b[0m\u001b[0m\n",
      "\u001b[0;31mUnboundLocalError\u001b[0m: local variable 'a' referenced before assignment"
     ]
    }
   ],
   "source": [
    "a = 'x'\n",
    "\n",
    "def func():\n",
    "    a += '1'\n",
    "    print(a,'fun int')\n",
    "func()\n",
    "print(a,'func out')"
   ]
  },
  {
   "cell_type": "code",
   "execution_count": 23,
   "metadata": {},
   "outputs": [
    {
     "name": "stdout",
     "output_type": "stream",
     "text": [
      "xyz fun int\n",
      "xyz func out\n"
     ]
    }
   ],
   "source": [
    "a = 'x'\n",
    "\n",
    "def func():\n",
    "    global a\n",
    "    a += 'yz'\n",
    "    print(a,'fun int')\n",
    "func()\n",
    "print(a,'func out')"
   ]
  },
  {
   "cell_type": "markdown",
   "metadata": {},
   "source": [
    "    局部，闭包与全局作用域    "
   ]
  },
  {
   "cell_type": "code",
   "execution_count": 28,
   "metadata": {},
   "outputs": [
    {
     "name": "stdout",
     "output_type": "stream",
     "text": [
      "1---> enclosed var\n",
      "2---> inner var\n",
      "3---> enclosed var\n"
     ]
    }
   ],
   "source": [
    "a = 'globla var'\n",
    "def outer():\n",
    "    a = 'enclosed var'\n",
    "    print('1--->',a)\n",
    "    def inner():\n",
    "        a = 'inner var'\n",
    "        print('2--->',a)\n",
    "    inner()\n",
    "    print('3--->',a)\n",
    "\n",
    "    outer()"
   ]
  },
  {
   "cell_type": "code",
   "execution_count": 29,
   "metadata": {},
   "outputs": [
    {
     "name": "stdout",
     "output_type": "stream",
     "text": [
      "1---> enclosed var\n",
      "2---> inner var\n",
      "3---> inner var\n"
     ]
    }
   ],
   "source": [
    "'''\n",
    "\n",
    "当执行一条nonlocal语句时，nonlocal名称必须已经在一个嵌套的def作用域中赋值过，否则将会得到一个错误\n",
    "比如下面  a\n",
    "'''\n",
    "a = 'globla var'\n",
    "def outer():\n",
    "    a = 'enclosed var'\n",
    "    print('1--->',a)\n",
    "    def inner():\n",
    "        nonlocal a     #nonlocal关键字来明确地访问最近外部(外围函数)作用域的变量，也可以修改它的值。nonlocal它只在一个函数内有意义\n",
    "        a = 'inner var'\n",
    "        print('2--->',a)\n",
    "    inner()\n",
    "    print('3--->',a)\n",
    "\n",
    "outer()"
   ]
  },
  {
   "cell_type": "code",
   "execution_count": 33,
   "metadata": {},
   "outputs": [
    {
     "name": "stdout",
     "output_type": "stream",
     "text": [
      "len--->is call\n",
      "func---> 3\n"
     ]
    }
   ],
   "source": [
    "a = 'abc'\n",
    "\n",
    "def len(params):\n",
    "    print('len--->is call')\n",
    "    count = 0\n",
    "    for i in params:\n",
    "        count +=1\n",
    "    return count   #不能直接使用len(patams)\n",
    "\n",
    "def func(params):\n",
    "    length = len(a)\n",
    "    print('func--->',length)\n",
    "\n",
    "func('123456')\n",
    "    "
   ]
  },
  {
   "cell_type": "markdown",
   "metadata": {},
   "source": [
    "# 思考\n",
    "\n",
    "'''\n",
    "    使用默认参数来保留嵌套作用域的状态\n",
    "'''\n"
   ]
  },
  {
   "cell_type": "code",
   "execution_count": 37,
   "metadata": {},
   "outputs": [
    {
     "name": "stdout",
     "output_type": "stream",
     "text": [
      "10\n"
     ]
    }
   ],
   "source": [
    "def f1():\n",
    "    x = 10\n",
    "    def f2(x=x):\n",
    "        print(x)\n",
    "    f2()\n",
    "f1()"
   ]
  },
  {
   "cell_type": "code",
   "execution_count": 38,
   "metadata": {},
   "outputs": [
    {
     "name": "stdout",
     "output_type": "stream",
     "text": [
      "2\n"
     ]
    }
   ],
   "source": [
    "def f1():\n",
    "    x = 10\n",
    "    def f2(x=x):\n",
    "        print(x)\n",
    "    f2(2)\n",
    "f1()"
   ]
  },
  {
   "cell_type": "markdown",
   "metadata": {},
   "source": [
    "# 栗子\n",
    "\n"
   ]
  },
  {
   "cell_type": "code",
   "execution_count": 45,
   "metadata": {},
   "outputs": [
    {
     "data": {
      "text/plain": [
       "[4]"
      ]
     },
     "execution_count": 45,
     "metadata": {},
     "output_type": "execute_result"
    }
   ],
   "source": [
    "def interset(*args):\n",
    "    res = []\n",
    "    for x in args[0]:\n",
    "        for other in args[1:]:\n",
    "            if x not in other:\n",
    "                break\n",
    "            else:\n",
    "                res.append(x)\n",
    "    return res\n",
    "\n",
    "interset([1,2,3,4],[4,5,6])"
   ]
  },
  {
   "cell_type": "code",
   "execution_count": 59,
   "metadata": {},
   "outputs": [
    {
     "name": "stdout",
     "output_type": "stream",
     "text": [
      "1\n",
      "2\n",
      "3\n",
      "1haha2haha3\n"
     ]
    }
   ],
   "source": [
    "import sys\n",
    "def printlf(*args,**kwargs):\n",
    "    sep = kwargs.get('sep',' ')\n",
    "    end = kwargs.get('end','\\n')\n",
    "    file = kwargs.get('file',sys.stdout)\n",
    "    \n",
    "    out = ''\n",
    "    flag = True\n",
    "    for arg in args:\n",
    "        print(arg)\n",
    "        out +=  ('' if flag else sep )+ str(arg)\n",
    "        flag = False\n",
    "    file.write(out+end)\n",
    "\n",
    "printlf(1,2,3,sep='haha')"
   ]
  },
  {
   "cell_type": "code",
   "execution_count": 60,
   "metadata": {},
   "outputs": [
    {
     "name": "stdout",
     "output_type": "stream",
     "text": [
      "1\n",
      "2\n",
      "3\n",
      "1haha2haha3\n"
     ]
    }
   ],
   "source": [
    "def printlf(*args,sep=' ',end='\\n',file=sys.stdout):\n",
    "    out = ''\n",
    "    flag = True\n",
    "    for arg in args:\n",
    "        print(arg)\n",
    "        out +=  ('' if flag else sep) + str(arg)\n",
    "        flag = False\n",
    "    file.write(out+end)\n",
    "printlf(1,2,3,sep='haha')"
   ]
  },
  {
   "cell_type": "markdown",
   "metadata": {},
   "source": [
    "# 递归函数\n",
    "    直接或间接地调用自身以进行循环的函数\n",
    "    ***必须要有结束条件\n"
   ]
  },
  {
   "cell_type": "code",
   "execution_count": 65,
   "metadata": {},
   "outputs": [
    {
     "name": "stdout",
     "output_type": "stream",
     "text": [
      "(1, 2) 139744257523840\n",
      "(2,) 139744245095488\n",
      "() 139744733605952\n"
     ]
    },
    {
     "data": {
      "text/plain": [
       "3"
      ]
     },
     "execution_count": 65,
     "metadata": {},
     "output_type": "execute_result"
    }
   ],
   "source": [
    "def sum(var):\n",
    "    print(var,id(var))\n",
    "    if not var:\n",
    "        return 0\n",
    "    else:\n",
    "        return var[0] + sum(var[1:])  #作用域....\n",
    "\n",
    "sum((1,2))"
   ]
  },
  {
   "cell_type": "code",
   "execution_count": 67,
   "metadata": {},
   "outputs": [
    {
     "data": {
      "text/plain": [
       "6"
      ]
     },
     "execution_count": 67,
     "metadata": {},
     "output_type": "execute_result"
    }
   ],
   "source": [
    "'''\n",
    "    三目元算符\n",
    "'''\n",
    "def sum(var):\n",
    "    return 0 if not var else var[0] + sum(var[1:])\n",
    "sum([1,2,3])"
   ]
  },
  {
   "cell_type": "code",
   "execution_count": 70,
   "metadata": {},
   "outputs": [
    {
     "data": {
      "text/plain": [
       "10"
      ]
     },
     "execution_count": 70,
     "metadata": {},
     "output_type": "execute_result"
    }
   ],
   "source": [
    "'''\n",
    "    只用解包操作\n",
    "'''\n",
    "def sum(var):\n",
    "    one ,*ret = var\n",
    "    return one if not ret else one + sum(ret)\n",
    "sum([1,2,3,4])"
   ]
  }
 ],
 "metadata": {
  "kernelspec": {
   "display_name": "Python 3",
   "language": "python",
   "name": "python3"
  },
  "language_info": {
   "codemirror_mode": {
    "name": "ipython",
    "version": 3
   },
   "file_extension": ".py",
   "mimetype": "text/x-python",
   "name": "python",
   "nbconvert_exporter": "python",
   "pygments_lexer": "ipython3",
   "version": "3.8.2"
  }
 },
 "nbformat": 4,
 "nbformat_minor": 4
}
